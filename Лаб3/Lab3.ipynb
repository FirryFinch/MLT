{
 "cells": [
  {
   "cell_type": "markdown",
   "id": "61f0104c",
   "metadata": {},
   "source": [
    "# 1. Задание лабораторной работы"
   ]
  },
  {
   "cell_type": "markdown",
   "id": "8a69da4b",
   "metadata": {},
   "source": [
    "- Выбрать набор данных (датасет) для решения задачи классификации или регрессии.\n",
    "- С использованием метода train_test_split разделить выборку на обучающую и тестовую.\n",
    "- Обучить модель ближайших соседей для произвольно заданного гиперпараметра K. Оценить качество модели с помощью подходящих для задачи метрик.\n",
    "- Произвести подбор гиперпараметра K с использованием GridSearchCV и/или RandomizedSearchCV и кросс-валидации, оценить качество оптимальной модели. Желательно использование нескольких стратегий кросс-валидации.\n",
    "- Сравнить метрики качества исходной и оптимальной моделей."
   ]
  },
  {
   "cell_type": "markdown",
   "id": "953d6556",
   "metadata": {},
   "source": [
    "# 2. Ячейки Jupyter-ноутбука"
   ]
  },
  {
   "cell_type": "markdown",
   "id": "b60fced9",
   "metadata": {},
   "source": [
    "## 1. Выбор и загрузка данных"
   ]
  },
  {
   "cell_type": "markdown",
   "id": "2aeedf3d",
   "metadata": {},
   "source": [
    "В качестве датасета будем использовать набор данных, содержащий данные о различных стёклах. Данный набор доступен по адресу: https://www.kaggle.com/datasets/uciml/glass\n",
    "\n",
    "\n",
    "Набор данных имеет следующие атрибуты:\n",
    "- RI - Refractive Index - коэффициент преломления\n",
    "- Na - Sodium - Содержание натрия (массовый процент в соответствующем оксиде)\n",
    "- Mg - Magnesium - Содержание магния\n",
    "- Al - Aluminum - Содержание алюминия\n",
    "- Si - Silicon - Содержание кремния\n",
    "- K -  Potassium - Содержание калия\n",
    "- Ca - Calcium - Содержание кальция\n",
    "- Ba - Barium - Содеражние бария\n",
    "- Fe - Iron - Содержание железа\n",
    "- Type - Type of glass - тип стекла (1, 2 - стекла для зданий, 3, 4 - стекла для автомобилей, 5 - стеклотара, 6 - tableware - бытовые стекла, 7 - стекла для ламп; 4 отсутствует в данном наборе данных)"
   ]
  },
  {
   "cell_type": "markdown",
   "id": "6bfdc9dc",
   "metadata": {},
   "source": [
    "### Импорт библиотек"
   ]
  },
  {
   "cell_type": "markdown",
   "id": "1acbb3a0",
   "metadata": {},
   "source": [
    "Импортируем библиотеки с помощью команды import:"
   ]
  },
  {
   "cell_type": "code",
   "execution_count": 1,
   "id": "386d432d",
   "metadata": {},
   "outputs": [],
   "source": [
    "import numpy as np\n",
    "import pandas as pd\n",
    "import seaborn as sns\n",
    "import matplotlib.pyplot as plt\n",
    "%matplotlib inline\n",
    "sns.set(style=\"ticks\")"
   ]
  },
  {
   "cell_type": "markdown",
   "id": "1104311e",
   "metadata": {},
   "source": [
    "### Загрузка данных"
   ]
  },
  {
   "cell_type": "markdown",
   "id": "f0a50012",
   "metadata": {},
   "source": [
    "Загрузим набор данных:"
   ]
  },
  {
   "cell_type": "code",
   "execution_count": 2,
   "id": "3d6f1637",
   "metadata": {},
   "outputs": [],
   "source": [
    "data = pd.read_csv('glass.csv')"
   ]
  },
  {
   "cell_type": "markdown",
   "id": "60b499dd",
   "metadata": {},
   "source": [
    "## 2. Первичный анализ и обрабока данных"
   ]
  },
  {
   "cell_type": "markdown",
   "id": "f8fb4fca",
   "metadata": {},
   "source": [
    "Выведем первые 5 строк датасета:"
   ]
  },
  {
   "cell_type": "code",
   "execution_count": 3,
   "id": "03f7dae5",
   "metadata": {},
   "outputs": [
    {
     "data": {
      "text/html": [
       "<div>\n",
       "<style scoped>\n",
       "    .dataframe tbody tr th:only-of-type {\n",
       "        vertical-align: middle;\n",
       "    }\n",
       "\n",
       "    .dataframe tbody tr th {\n",
       "        vertical-align: top;\n",
       "    }\n",
       "\n",
       "    .dataframe thead th {\n",
       "        text-align: right;\n",
       "    }\n",
       "</style>\n",
       "<table border=\"1\" class=\"dataframe\">\n",
       "  <thead>\n",
       "    <tr style=\"text-align: right;\">\n",
       "      <th></th>\n",
       "      <th>RI</th>\n",
       "      <th>Na</th>\n",
       "      <th>Mg</th>\n",
       "      <th>Al</th>\n",
       "      <th>Si</th>\n",
       "      <th>K</th>\n",
       "      <th>Ca</th>\n",
       "      <th>Ba</th>\n",
       "      <th>Fe</th>\n",
       "      <th>Type</th>\n",
       "    </tr>\n",
       "  </thead>\n",
       "  <tbody>\n",
       "    <tr>\n",
       "      <th>0</th>\n",
       "      <td>1.52101</td>\n",
       "      <td>13.64</td>\n",
       "      <td>4.49</td>\n",
       "      <td>1.10</td>\n",
       "      <td>71.78</td>\n",
       "      <td>0.06</td>\n",
       "      <td>8.75</td>\n",
       "      <td>0.0</td>\n",
       "      <td>0.0</td>\n",
       "      <td>1</td>\n",
       "    </tr>\n",
       "    <tr>\n",
       "      <th>1</th>\n",
       "      <td>1.51761</td>\n",
       "      <td>13.89</td>\n",
       "      <td>3.60</td>\n",
       "      <td>1.36</td>\n",
       "      <td>72.73</td>\n",
       "      <td>0.48</td>\n",
       "      <td>7.83</td>\n",
       "      <td>0.0</td>\n",
       "      <td>0.0</td>\n",
       "      <td>1</td>\n",
       "    </tr>\n",
       "    <tr>\n",
       "      <th>2</th>\n",
       "      <td>1.51618</td>\n",
       "      <td>13.53</td>\n",
       "      <td>3.55</td>\n",
       "      <td>1.54</td>\n",
       "      <td>72.99</td>\n",
       "      <td>0.39</td>\n",
       "      <td>7.78</td>\n",
       "      <td>0.0</td>\n",
       "      <td>0.0</td>\n",
       "      <td>1</td>\n",
       "    </tr>\n",
       "    <tr>\n",
       "      <th>3</th>\n",
       "      <td>1.51766</td>\n",
       "      <td>13.21</td>\n",
       "      <td>3.69</td>\n",
       "      <td>1.29</td>\n",
       "      <td>72.61</td>\n",
       "      <td>0.57</td>\n",
       "      <td>8.22</td>\n",
       "      <td>0.0</td>\n",
       "      <td>0.0</td>\n",
       "      <td>1</td>\n",
       "    </tr>\n",
       "    <tr>\n",
       "      <th>4</th>\n",
       "      <td>1.51742</td>\n",
       "      <td>13.27</td>\n",
       "      <td>3.62</td>\n",
       "      <td>1.24</td>\n",
       "      <td>73.08</td>\n",
       "      <td>0.55</td>\n",
       "      <td>8.07</td>\n",
       "      <td>0.0</td>\n",
       "      <td>0.0</td>\n",
       "      <td>1</td>\n",
       "    </tr>\n",
       "  </tbody>\n",
       "</table>\n",
       "</div>"
      ],
      "text/plain": [
       "        RI     Na    Mg    Al     Si     K    Ca   Ba   Fe  Type\n",
       "0  1.52101  13.64  4.49  1.10  71.78  0.06  8.75  0.0  0.0     1\n",
       "1  1.51761  13.89  3.60  1.36  72.73  0.48  7.83  0.0  0.0     1\n",
       "2  1.51618  13.53  3.55  1.54  72.99  0.39  7.78  0.0  0.0     1\n",
       "3  1.51766  13.21  3.69  1.29  72.61  0.57  8.22  0.0  0.0     1\n",
       "4  1.51742  13.27  3.62  1.24  73.08  0.55  8.07  0.0  0.0     1"
      ]
     },
     "execution_count": 3,
     "metadata": {},
     "output_type": "execute_result"
    }
   ],
   "source": [
    "data.head()"
   ]
  },
  {
   "cell_type": "markdown",
   "id": "121c4b68",
   "metadata": {},
   "source": [
    "Определим размер датасета и целевого признака (Type):"
   ]
  },
  {
   "cell_type": "code",
   "execution_count": 4,
   "id": "abbd46ff",
   "metadata": {},
   "outputs": [
    {
     "data": {
      "text/plain": [
       "((214, 10), (214,))"
      ]
     },
     "execution_count": 4,
     "metadata": {},
     "output_type": "execute_result"
    }
   ],
   "source": [
    "data.shape, data.Type.shape"
   ]
  },
  {
   "cell_type": "markdown",
   "id": "5ed046d6",
   "metadata": {},
   "source": [
    "### Разделение выборки на обучающую и тестовую"
   ]
  },
  {
   "cell_type": "markdown",
   "id": "19e89571",
   "metadata": {},
   "source": [
    "Разделим выборку с помощью функции train_test_split:"
   ]
  },
  {
   "cell_type": "code",
   "execution_count": 5,
   "id": "3103e1be",
   "metadata": {},
   "outputs": [],
   "source": [
    "from sklearn.model_selection import train_test_split"
   ]
  },
  {
   "cell_type": "code",
   "execution_count": 6,
   "id": "884d6305",
   "metadata": {},
   "outputs": [],
   "source": [
    "gl_x_train, gl_x_test, gl_y_train, gl_y_test = train_test_split(data, data.Type, test_size=0.3, random_state=1)"
   ]
  },
  {
   "cell_type": "markdown",
   "id": "041c8834",
   "metadata": {},
   "source": [
    "Размеры обучающей выборки и тестовой выборки:"
   ]
  },
  {
   "cell_type": "code",
   "execution_count": 7,
   "id": "4575ae1e",
   "metadata": {},
   "outputs": [
    {
     "data": {
      "text/plain": [
       "((149, 10), (149,))"
      ]
     },
     "execution_count": 7,
     "metadata": {},
     "output_type": "execute_result"
    }
   ],
   "source": [
    "gl_x_train.shape, gl_y_train.shape"
   ]
  },
  {
   "cell_type": "code",
   "execution_count": 8,
   "id": "7bd2cd0d",
   "metadata": {},
   "outputs": [
    {
     "data": {
      "text/plain": [
       "((65, 10), (65,))"
      ]
     },
     "execution_count": 8,
     "metadata": {},
     "output_type": "execute_result"
    }
   ],
   "source": [
    "gl_x_test.shape, gl_y_test.shape"
   ]
  },
  {
   "cell_type": "markdown",
   "id": "fa1e2477",
   "metadata": {},
   "source": [
    "В выборках остались все типы стекол, доступные в изначальном датасете (4 отсутствует в исходном):"
   ]
  },
  {
   "cell_type": "code",
   "execution_count": 9,
   "id": "5c91e637",
   "metadata": {},
   "outputs": [
    {
     "data": {
      "text/plain": [
       "array([1, 2, 3, 5, 6, 7], dtype=int64)"
      ]
     },
     "execution_count": 9,
     "metadata": {},
     "output_type": "execute_result"
    }
   ],
   "source": [
    "np.unique(gl_y_train)"
   ]
  },
  {
   "cell_type": "code",
   "execution_count": 10,
   "id": "73c31b98",
   "metadata": {},
   "outputs": [
    {
     "data": {
      "text/plain": [
       "array([1, 2, 3, 5, 6, 7], dtype=int64)"
      ]
     },
     "execution_count": 10,
     "metadata": {},
     "output_type": "execute_result"
    }
   ],
   "source": [
    "np.unique(gl_y_test)"
   ]
  },
  {
   "cell_type": "markdown",
   "id": "9aa82f3a",
   "metadata": {},
   "source": [
    "Проверим распределение типов стекол:"
   ]
  },
  {
   "cell_type": "code",
   "execution_count": 11,
   "id": "1097c099",
   "metadata": {},
   "outputs": [],
   "source": [
    "from typing import Dict, Tuple"
   ]
  },
  {
   "cell_type": "code",
   "execution_count": 12,
   "id": "b2e4cdf0",
   "metadata": {},
   "outputs": [],
   "source": [
    "def type_proportions(array: np.ndarray) -> Dict[int, Tuple[int, float]]:\n",
    "    labels, counts = np.unique(array, return_counts=True)\n",
    "    counts_perc = counts/array.size\n",
    "    res = dict()\n",
    "    for label, count2 in zip(labels, zip(counts, counts_perc)):\n",
    "        res[label] = count2\n",
    "    return res\n",
    "\n",
    "def print_type_proportions(array: np.ndarray):\n",
    "    proportions = type_proportions(array)\n",
    "    if len(proportions)>0:\n",
    "        print('Тип \\t Количество \\t Процент встречаемости')\n",
    "    for i in proportions:\n",
    "        val, val_perc = proportions[i]\n",
    "        val_perc_100 = round(val_perc * 100, 2)\n",
    "        print('{} \\t {} \\t \\t {}%'.format(i, val, val_perc_100))"
   ]
  },
  {
   "cell_type": "code",
   "execution_count": 13,
   "id": "e965c2e1",
   "metadata": {},
   "outputs": [
    {
     "name": "stdout",
     "output_type": "stream",
     "text": [
      "Тип \t Количество \t Процент встречаемости\n",
      "1 \t 70 \t \t 32.71%\n",
      "2 \t 76 \t \t 35.51%\n",
      "3 \t 17 \t \t 7.94%\n",
      "5 \t 13 \t \t 6.07%\n",
      "6 \t 9 \t \t 4.21%\n",
      "7 \t 29 \t \t 13.55%\n"
     ]
    }
   ],
   "source": [
    "print_type_proportions(data.Type)"
   ]
  },
  {
   "cell_type": "code",
   "execution_count": 14,
   "id": "69e75f6a",
   "metadata": {},
   "outputs": [
    {
     "name": "stdout",
     "output_type": "stream",
     "text": [
      "Тип \t Количество \t Процент встречаемости\n",
      "1 \t 45 \t \t 30.2%\n",
      "2 \t 55 \t \t 36.91%\n",
      "3 \t 10 \t \t 6.71%\n",
      "5 \t 11 \t \t 7.38%\n",
      "6 \t 8 \t \t 5.37%\n",
      "7 \t 20 \t \t 13.42%\n"
     ]
    }
   ],
   "source": [
    "print_type_proportions(gl_y_train)"
   ]
  },
  {
   "cell_type": "code",
   "execution_count": 15,
   "id": "2566e248",
   "metadata": {},
   "outputs": [
    {
     "name": "stdout",
     "output_type": "stream",
     "text": [
      "Тип \t Количество \t Процент встречаемости\n",
      "1 \t 25 \t \t 38.46%\n",
      "2 \t 21 \t \t 32.31%\n",
      "3 \t 7 \t \t 10.77%\n",
      "5 \t 2 \t \t 3.08%\n",
      "6 \t 1 \t \t 1.54%\n",
      "7 \t 9 \t \t 13.85%\n"
     ]
    }
   ],
   "source": [
    "print_type_proportions(gl_y_test)"
   ]
  },
  {
   "cell_type": "markdown",
   "id": "e5b57efe",
   "metadata": {},
   "source": [
    "Видим, что пропорции типов стекол приблизительно сохранились."
   ]
  },
  {
   "cell_type": "markdown",
   "id": "afa27ed8",
   "metadata": {},
   "source": [
    "## 3. Построение модели ближайших соседей для произвольного гиперпараметра"
   ]
  },
  {
   "cell_type": "markdown",
   "id": "b7ee099b",
   "metadata": {},
   "source": [
    "Пусть гиперпараметр будет равен 20, построим модель:"
   ]
  },
  {
   "cell_type": "code",
   "execution_count": 16,
   "id": "77469fd9",
   "metadata": {},
   "outputs": [],
   "source": [
    "from sklearn.neighbors import KNeighborsClassifier"
   ]
  },
  {
   "cell_type": "code",
   "execution_count": 17,
   "id": "f926c220",
   "metadata": {},
   "outputs": [
    {
     "data": {
      "text/plain": [
       "(65,\n",
       " array([2, 7, 2, 2, 1, 1, 1, 2, 1, 1, 2, 1, 2, 1, 2, 2, 2, 2, 2, 1, 1, 7,\n",
       "        2, 1, 2, 1, 2, 2, 1, 1, 5, 7, 1, 1, 1, 1, 2, 2, 2, 1, 1, 7, 7, 1,\n",
       "        7, 1, 1, 1, 2, 7, 2, 2, 2, 2, 5, 2, 7, 1, 7, 7, 2, 1, 2, 2, 1],\n",
       "       dtype=int64))"
      ]
     },
     "execution_count": 17,
     "metadata": {},
     "output_type": "execute_result"
    }
   ],
   "source": [
    "clf_i = KNeighborsClassifier(n_neighbors=20)\n",
    "clf_i.fit(gl_x_train, gl_y_train)\n",
    "target_i = clf_i.predict(gl_x_test)\n",
    "len(target_i), target_i"
   ]
  },
  {
   "cell_type": "markdown",
   "id": "eba1f865",
   "metadata": {},
   "source": [
    "Эту модель будем считать исходной."
   ]
  },
  {
   "cell_type": "markdown",
   "id": "ef99c81f",
   "metadata": {},
   "source": [
    "## 4. Кросс-валидация и подбор гиперпараметра K через GridSearch и RandomizedSearch "
   ]
  },
  {
   "cell_type": "markdown",
   "id": "42fc89dd",
   "metadata": {},
   "source": [
    "### Кросс-валидация"
   ]
  },
  {
   "cell_type": "code",
   "execution_count": 18,
   "id": "44c80707",
   "metadata": {},
   "outputs": [],
   "source": [
    "from sklearn.model_selection import cross_val_score, cross_validate"
   ]
  },
  {
   "cell_type": "code",
   "execution_count": 19,
   "id": "3eededc6",
   "metadata": {},
   "outputs": [
    {
     "data": {
      "text/plain": [
       "array([0.91666667, 0.95774648, 0.95774648])"
      ]
     },
     "execution_count": 19,
     "metadata": {},
     "output_type": "execute_result"
    }
   ],
   "source": [
    "scores = cross_val_score(KNeighborsClassifier(n_neighbors=2), \n",
    "                         data, data.Type, cv=3)\n",
    "scores"
   ]
  },
  {
   "cell_type": "markdown",
   "id": "9d54b71c",
   "metadata": {},
   "source": [
    "С помощью функции cross_validate:"
   ]
  },
  {
   "cell_type": "code",
   "execution_count": 20,
   "id": "d8dc068a",
   "metadata": {},
   "outputs": [
    {
     "data": {
      "text/plain": [
       "{'fit_time': array([0.00199533, 0.00199556, 0.00199461]),\n",
       " 'score_time': array([0.00699353, 0.00498652, 0.00398993]),\n",
       " 'test_score': array([0.91673789, 0.95774648, 0.95301901]),\n",
       " 'train_score': array([0.9930479 , 0.98664493, 0.97930491])}"
      ]
     },
     "execution_count": 20,
     "metadata": {},
     "output_type": "execute_result"
    }
   ],
   "source": [
    "scoring = {'precision': 'precision_weighted', \n",
    "           'recall': 'recall_weighted',\n",
    "           'f1': 'f1_weighted'}\n",
    "scores = cross_validate(KNeighborsClassifier(n_neighbors=2), \n",
    "                        data, data.Type, scoring='f1_weighted', \n",
    "                        cv=3, return_train_score=True)\n",
    "scores"
   ]
  },
  {
   "cell_type": "markdown",
   "id": "8501d0e8",
   "metadata": {},
   "source": [
    "#### Стратегия K-Fold"
   ]
  },
  {
   "cell_type": "code",
   "execution_count": 21,
   "id": "26d80c1c",
   "metadata": {},
   "outputs": [],
   "source": [
    "from sklearn.model_selection import KFold"
   ]
  },
  {
   "cell_type": "code",
   "execution_count": 22,
   "id": "08fc8887",
   "metadata": {},
   "outputs": [
    {
     "data": {
      "text/plain": [
       "{'fit_time': array([0.00199389, 0.00199533, 0.00199437, 0.0009973 , 0.00199461]),\n",
       " 'score_time': array([0.00398922, 0.00398827, 0.00299191, 0.00398946, 0.00398898]),\n",
       " 'test_score': array([1.        , 1.        , 0.925     , 0.46055632, 0.01858304])}"
      ]
     },
     "execution_count": 22,
     "metadata": {},
     "output_type": "execute_result"
    }
   ],
   "source": [
    "kf = KFold(n_splits=5)\n",
    "scores = cross_validate(KNeighborsClassifier(n_neighbors=2), \n",
    "                         data, data.Type, scoring='f1_weighted', \n",
    "                         cv=kf)\n",
    "scores"
   ]
  },
  {
   "cell_type": "markdown",
   "id": "1237b8b7",
   "metadata": {},
   "source": [
    "#### Стратегия Repeated K-Fold"
   ]
  },
  {
   "cell_type": "code",
   "execution_count": 23,
   "id": "db6c1ad0",
   "metadata": {},
   "outputs": [],
   "source": [
    "from sklearn.model_selection import RepeatedKFold"
   ]
  },
  {
   "cell_type": "code",
   "execution_count": 24,
   "id": "4f4644ed",
   "metadata": {},
   "outputs": [
    {
     "data": {
      "text/plain": [
       "{'fit_time': array([0.00299239, 0.00199461, 0.00199437, 0.00199389, 0.00199389,\n",
       "        0.00199485]),\n",
       " 'score_time': array([0.00498509, 0.00598407, 0.00398946, 0.00498843, 0.00498605,\n",
       "        0.00398922]),\n",
       " 'test_score': array([0.95810786, 0.94529925, 0.94647887, 0.91637587, 0.93043557,\n",
       "        0.95471543])}"
      ]
     },
     "execution_count": 24,
     "metadata": {},
     "output_type": "execute_result"
    }
   ],
   "source": [
    "kf = RepeatedKFold(n_splits=3, n_repeats=2)\n",
    "scores = cross_validate(KNeighborsClassifier(n_neighbors=2), \n",
    "                         data, data.Type, scoring='f1_weighted', \n",
    "                         cv=kf)\n",
    "scores"
   ]
  },
  {
   "cell_type": "markdown",
   "id": "51002ad7",
   "metadata": {},
   "source": [
    "#### Стратегия Leave One Out"
   ]
  },
  {
   "cell_type": "code",
   "execution_count": 25,
   "id": "3d09b539",
   "metadata": {},
   "outputs": [],
   "source": [
    "from sklearn.model_selection import LeaveOneOut"
   ]
  },
  {
   "cell_type": "code",
   "execution_count": 26,
   "id": "e41b1933",
   "metadata": {},
   "outputs": [
    {
     "data": {
      "text/plain": [
       "{'fit_time': array([0.00299239, 0.00199413, 0.00199509, 0.00199461, 0.00199485,\n",
       "        0.00199461, 0.00199485, 0.00199413, 0.00199628, 0.00199461,\n",
       "        0.00199485, 0.00199461, 0.00199461, 0.00199509, 0.00199533,\n",
       "        0.00199461, 0.00099754, 0.00199509, 0.00199604, 0.0009973 ,\n",
       "        0.00199437, 0.00199533, 0.00199509, 0.00199461, 0.00199437,\n",
       "        0.00199461, 0.00199533, 0.00199485, 0.00199485, 0.00199485,\n",
       "        0.00199461, 0.00199389, 0.00199485, 0.00199485, 0.0009973 ,\n",
       "        0.00199461, 0.00199485, 0.00199366, 0.00199461, 0.00199461,\n",
       "        0.00199437, 0.00199485, 0.00199437, 0.00199461, 0.00199509,\n",
       "        0.00199461, 0.00199461, 0.00299239, 0.00199604, 0.00199485,\n",
       "        0.00199461, 0.00199461, 0.00199461, 0.00199437, 0.00199461,\n",
       "        0.00199533, 0.00199461, 0.00199437, 0.00099754, 0.00199461,\n",
       "        0.00299215, 0.00199437, 0.0009973 , 0.00299215, 0.00199509,\n",
       "        0.00199461, 0.00201392, 0.00099802, 0.00199485, 0.00199485,\n",
       "        0.00199533, 0.00199437, 0.00099754, 0.00199485, 0.00199437,\n",
       "        0.0009954 , 0.00099754, 0.00199533, 0.00199461, 0.00099754,\n",
       "        0.00099778, 0.00200272, 0.00199509, 0.00199461, 0.0009973 ,\n",
       "        0.00199485, 0.00199485, 0.00199485, 0.00199437, 0.00199461,\n",
       "        0.0009973 , 0.00199461, 0.00199485, 0.00199485, 0.00199437,\n",
       "        0.00299215, 0.00199485, 0.00199485, 0.00199461, 0.00199461,\n",
       "        0.00199461, 0.00199461, 0.00199509, 0.00199485, 0.00199485,\n",
       "        0.00199461, 0.00199485, 0.00199533, 0.00199437, 0.00199437,\n",
       "        0.00199485, 0.00199437, 0.00099754, 0.00199413, 0.00099707,\n",
       "        0.00199461, 0.00199437, 0.00099754, 0.00199509, 0.00199485,\n",
       "        0.00099754, 0.00199485, 0.00199413, 0.00199437, 0.00199461,\n",
       "        0.00199533, 0.00099707, 0.00099754, 0.00301099, 0.00199437,\n",
       "        0.00199509, 0.00191545, 0.00199461, 0.00199461, 0.00199461,\n",
       "        0.00199437, 0.00099754, 0.00199485, 0.00199556, 0.00199413,\n",
       "        0.00199461, 0.00199437, 0.00199485, 0.00099754, 0.00199461,\n",
       "        0.00199461, 0.00199485, 0.00199485, 0.00199413, 0.00199437,\n",
       "        0.00199461, 0.00199461, 0.00099707, 0.00199485, 0.00199509,\n",
       "        0.00199437, 0.00199461, 0.00099707, 0.0009973 , 0.00299191,\n",
       "        0.00199461, 0.00199413, 0.00199485, 0.00299263, 0.00199437,\n",
       "        0.00099683, 0.00199461, 0.00299144, 0.00199437, 0.00099754,\n",
       "        0.00199509, 0.00099659, 0.00199366, 0.00199509, 0.0009973 ,\n",
       "        0.00199461, 0.0009973 , 0.00199437, 0.00199485, 0.00199533,\n",
       "        0.00199461, 0.00197649, 0.00199485, 0.00199437, 0.00199485,\n",
       "        0.00099754, 0.00199461, 0.00199413, 0.00199509, 0.00199485,\n",
       "        0.00199461, 0.00199413, 0.00099707, 0.00199461, 0.00199437,\n",
       "        0.00099707, 0.00199485, 0.00199485, 0.00199461, 0.00199485,\n",
       "        0.00199437, 0.00199485, 0.00199437, 0.00199485, 0.00199437,\n",
       "        0.00199389, 0.00199437, 0.00199485, 0.00199485, 0.00199485,\n",
       "        0.00199485, 0.00199509, 0.00199461, 0.00199389]),\n",
       " 'score_time': array([0.00398922, 0.00199461, 0.00199366, 0.00299144, 0.00199437,\n",
       "        0.00299287, 0.00199461, 0.00199389, 0.0029912 , 0.00299191,\n",
       "        0.00199461, 0.00299215, 0.00199461, 0.00199413, 0.00199461,\n",
       "        0.00199461, 0.00299168, 0.00199461, 0.00199318, 0.00299191,\n",
       "        0.00199509, 0.00299096, 0.00199461, 0.00199461, 0.00199437,\n",
       "        0.00199366, 0.00199533, 0.00199485, 0.00199461, 0.00199461,\n",
       "        0.00199461, 0.00199461, 0.00199437, 0.00199389, 0.00199461,\n",
       "        0.00199461, 0.00199461, 0.00199461, 0.00199461, 0.00199485,\n",
       "        0.00199437, 0.00299215, 0.00299239, 0.00199461, 0.00199485,\n",
       "        0.00299144, 0.00199461, 0.00199437, 0.00199389, 0.00199461,\n",
       "        0.00299191, 0.00199485, 0.00199461, 0.00199461, 0.00199485,\n",
       "        0.00299168, 0.00199509, 0.00199485, 0.00299144, 0.00199461,\n",
       "        0.00199461, 0.00199485, 0.00299191, 0.00199437, 0.00199461,\n",
       "        0.00199461, 0.00197577, 0.0029912 , 0.00199461, 0.00299144,\n",
       "        0.00299191, 0.0019958 , 0.00199437, 0.00199413, 0.00199533,\n",
       "        0.00199461, 0.00299168, 0.00299168, 0.00199461, 0.00299168,\n",
       "        0.00299144, 0.00298452, 0.00199461, 0.00199461, 0.00299168,\n",
       "        0.00199461, 0.00199461, 0.00299215, 0.00299191, 0.00199461,\n",
       "        0.00299191, 0.00199485, 0.00199461, 0.00199461, 0.00398898,\n",
       "        0.00299168, 0.00299168, 0.00299335, 0.00199437, 0.00199556,\n",
       "        0.00299144, 0.00299263, 0.00299144, 0.00199437, 0.00299191,\n",
       "        0.00199389, 0.00199461, 0.00199485, 0.00199485, 0.00199437,\n",
       "        0.00299287, 0.00199413, 0.00299215, 0.00199509, 0.00299215,\n",
       "        0.00199485, 0.00199485, 0.0029912 , 0.00199461, 0.00199437,\n",
       "        0.00299239, 0.00299191, 0.00199533, 0.00199437, 0.00299191,\n",
       "        0.00199437, 0.00199485, 0.00299287, 0.00297332, 0.00199413,\n",
       "        0.00307131, 0.00299215, 0.00199461, 0.00199485, 0.00299168,\n",
       "        0.00199461, 0.00299168, 0.00199485, 0.0029912 , 0.00199509,\n",
       "        0.00299215, 0.00199485, 0.00199509, 0.00299191, 0.00199461,\n",
       "        0.00299144, 0.00299215, 0.00199485, 0.00199533, 0.00199485,\n",
       "        0.00199485, 0.00199437, 0.00299191, 0.00199437, 0.00199413,\n",
       "        0.00199437, 0.00199461, 0.00199437, 0.00299191, 0.00199461,\n",
       "        0.0019958 , 0.00199437, 0.00199461, 0.00199461, 0.00199485,\n",
       "        0.00299239, 0.00199509, 0.00199485, 0.00199437, 0.00299191,\n",
       "        0.00299215, 0.00299335, 0.00299215, 0.00199413, 0.00299215,\n",
       "        0.00199461, 0.00299215, 0.00199485, 0.00199437, 0.00299215,\n",
       "        0.00199461, 0.00199437, 0.00299215, 0.00199461, 0.00199461,\n",
       "        0.00299191, 0.00199389, 0.00199437, 0.00199437, 0.00199461,\n",
       "        0.00199485, 0.00199509, 0.00299215, 0.00199485, 0.00199437,\n",
       "        0.00299191, 0.00199461, 0.00299191, 0.00299191, 0.00199461,\n",
       "        0.00299263, 0.00199509, 0.00199437, 0.00199485, 0.00199485,\n",
       "        0.00199485, 0.00299215, 0.00199437, 0.00199485, 0.00199437,\n",
       "        0.00199461, 0.00299168, 0.00199509, 0.00199556]),\n",
       " 'test_score': array([1., 1., 1., 1., 1., 1., 1., 1., 1., 1., 1., 1., 1., 1., 1., 1., 1.,\n",
       "        1., 1., 1., 1., 1., 1., 1., 1., 1., 1., 1., 1., 1., 1., 1., 1., 1.,\n",
       "        1., 1., 1., 1., 1., 1., 1., 1., 1., 1., 1., 1., 1., 1., 1., 1., 1.,\n",
       "        1., 1., 1., 1., 1., 1., 1., 1., 1., 1., 1., 1., 1., 1., 1., 1., 1.,\n",
       "        1., 1., 1., 1., 1., 1., 1., 1., 1., 1., 1., 1., 1., 1., 1., 1., 1.,\n",
       "        1., 1., 1., 1., 1., 1., 1., 1., 1., 1., 1., 1., 1., 1., 1., 1., 1.,\n",
       "        1., 0., 1., 1., 1., 1., 1., 1., 1., 1., 1., 1., 1., 1., 1., 1., 1.,\n",
       "        1., 1., 1., 1., 1., 1., 1., 1., 1., 1., 1., 1., 1., 1., 1., 1., 1.,\n",
       "        1., 1., 1., 1., 1., 1., 1., 1., 1., 1., 1., 1., 1., 1., 1., 1., 1.,\n",
       "        1., 1., 1., 1., 1., 1., 1., 1., 1., 1., 0., 1., 1., 1., 1., 1., 1.,\n",
       "        1., 1., 1., 1., 1., 1., 1., 1., 1., 1., 0., 1., 0., 0., 1., 1., 0.,\n",
       "        0., 0., 0., 0., 1., 1., 1., 1., 1., 1., 1., 1., 1., 1., 0., 1., 1.,\n",
       "        1., 1., 1., 1., 1., 1., 1., 1., 1., 1.])}"
      ]
     },
     "execution_count": 26,
     "metadata": {},
     "output_type": "execute_result"
    }
   ],
   "source": [
    "kf = LeaveOneOut()\n",
    "scores = cross_validate(KNeighborsClassifier(n_neighbors=2), \n",
    "                         data, data.Type, scoring='f1_weighted', \n",
    "                         cv=kf)\n",
    "scores"
   ]
  },
  {
   "cell_type": "markdown",
   "id": "16c300bd",
   "metadata": {},
   "source": [
    "#### Стратегия Leave P Out"
   ]
  },
  {
   "cell_type": "code",
   "execution_count": 27,
   "id": "c8a846c5",
   "metadata": {},
   "outputs": [],
   "source": [
    "from sklearn.model_selection import LeavePOut"
   ]
  },
  {
   "cell_type": "code",
   "execution_count": 28,
   "id": "d3b0c7e6",
   "metadata": {},
   "outputs": [
    {
     "data": {
      "text/plain": [
       "{'fit_time': array([0.00299191, 0.00299239, 0.00199437, ..., 0.00199485, 0.00199461,\n",
       "        0.0009973 ]),\n",
       " 'score_time': array([0.00299263, 0.00398898, 0.00199509, ..., 0.00199437, 0.00199461,\n",
       "        0.00299215]),\n",
       " 'test_score': array([1., 1., 1., ..., 1., 1., 1.])}"
      ]
     },
     "execution_count": 28,
     "metadata": {},
     "output_type": "execute_result"
    }
   ],
   "source": [
    "kf = LeavePOut(2)\n",
    "scores = cross_validate(KNeighborsClassifier(n_neighbors=2), \n",
    "                         data, data.Type, scoring='f1_weighted', \n",
    "                         cv=kf)\n",
    "scores"
   ]
  },
  {
   "cell_type": "markdown",
   "id": "97e075dd",
   "metadata": {},
   "source": [
    "#### Стратегия ShuffleSplit"
   ]
  },
  {
   "cell_type": "code",
   "execution_count": 29,
   "id": "942bdbda",
   "metadata": {},
   "outputs": [],
   "source": [
    "from sklearn.model_selection import ShuffleSplit"
   ]
  },
  {
   "cell_type": "code",
   "execution_count": 30,
   "id": "1698debf",
   "metadata": {},
   "outputs": [
    {
     "data": {
      "text/plain": [
       "{'fit_time': array([0.00299287, 0.00199628, 0.00199437, 0.00199461, 0.00199461]),\n",
       " 'score_time': array([0.00498509, 0.00398779, 0.00398898, 0.0039897 , 0.00398898]),\n",
       " 'test_score': array([0.94441411, 0.96349206, 0.98402324, 0.98143226, 0.92595626])}"
      ]
     },
     "execution_count": 30,
     "metadata": {},
     "output_type": "execute_result"
    }
   ],
   "source": [
    "kf = ShuffleSplit(n_splits=5, test_size=0.25)\n",
    "scores = cross_validate(KNeighborsClassifier(n_neighbors=2), \n",
    "                         data, data.Type, scoring='f1_weighted', \n",
    "                         cv=kf)\n",
    "scores"
   ]
  },
  {
   "cell_type": "markdown",
   "id": "db4d9d34",
   "metadata": {},
   "source": [
    "#### Стратегия StratifiedKFold"
   ]
  },
  {
   "cell_type": "code",
   "execution_count": 31,
   "id": "014328c5",
   "metadata": {},
   "outputs": [],
   "source": [
    "from sklearn.model_selection import StratifiedKFold"
   ]
  },
  {
   "cell_type": "code",
   "execution_count": 32,
   "id": "f8867130",
   "metadata": {},
   "outputs": [
    {
     "data": {
      "text/plain": [
       "{'fit_time': array([0.00299287, 0.00199556, 0.00199342]),\n",
       " 'score_time': array([0.00498414, 0.00598502, 0.00498652]),\n",
       " 'test_score': array([0.91673789, 0.95774648, 0.95301901])}"
      ]
     },
     "execution_count": 32,
     "metadata": {},
     "output_type": "execute_result"
    }
   ],
   "source": [
    "skf = StratifiedKFold(n_splits=3)\n",
    "scores = cross_validate(KNeighborsClassifier(n_neighbors=2), \n",
    "                         data, data.Type, scoring='f1_weighted', \n",
    "                         cv=skf)\n",
    "scores"
   ]
  },
  {
   "cell_type": "markdown",
   "id": "219b8016",
   "metadata": {},
   "source": [
    "### Оптимизация гиперпараметра"
   ]
  },
  {
   "cell_type": "markdown",
   "id": "9e121338",
   "metadata": {},
   "source": [
    "#### Через GridSearch"
   ]
  },
  {
   "cell_type": "code",
   "execution_count": 33,
   "id": "a6b89f21",
   "metadata": {},
   "outputs": [],
   "source": [
    "from sklearn.model_selection import GridSearchCV"
   ]
  },
  {
   "cell_type": "code",
   "execution_count": 34,
   "id": "2047c6a1",
   "metadata": {},
   "outputs": [
    {
     "data": {
      "text/plain": [
       "[{'n_neighbors': array([ 5, 10, 15, 20, 25, 30, 35, 40, 45, 50])}]"
      ]
     },
     "execution_count": 34,
     "metadata": {},
     "output_type": "execute_result"
    }
   ],
   "source": [
    "n_range = np.array(range(5,55,5))\n",
    "tuned_parameters = [{'n_neighbors': n_range}]\n",
    "tuned_parameters"
   ]
  },
  {
   "cell_type": "code",
   "execution_count": 35,
   "id": "29ce78f2",
   "metadata": {},
   "outputs": [
    {
     "name": "stdout",
     "output_type": "stream",
     "text": [
      "CPU times: total: 219 ms\n",
      "Wall time: 273 ms\n"
     ]
    },
    {
     "data": {
      "text/plain": [
       "GridSearchCV(cv=5, estimator=KNeighborsClassifier(),\n",
       "             param_grid=[{'n_neighbors': array([ 5, 10, 15, 20, 25, 30, 35, 40, 45, 50])}],\n",
       "             scoring='accuracy')"
      ]
     },
     "execution_count": 35,
     "metadata": {},
     "output_type": "execute_result"
    }
   ],
   "source": [
    "%%time\n",
    "clf_gs = GridSearchCV(KNeighborsClassifier(), tuned_parameters, cv=5, scoring='accuracy')\n",
    "clf_gs.fit(gl_x_train, gl_y_train)"
   ]
  },
  {
   "cell_type": "code",
   "execution_count": 36,
   "id": "ec31594f",
   "metadata": {},
   "outputs": [
    {
     "data": {
      "text/plain": [
       "{'mean_fit_time': array([0.00199447, 0.00219417, 0.00179548, 0.00159593, 0.00179577,\n",
       "        0.00179534, 0.00239391, 0.0019949 , 0.00199537, 0.00179524]),\n",
       " 'std_fit_time': array([4.67203091e-07, 3.99351504e-04, 3.98850651e-04, 4.88480405e-04,\n",
       "        3.98993560e-04, 3.98660116e-04, 4.88558179e-04, 3.16297988e-07,\n",
       "        6.46813391e-07, 3.98969722e-04]),\n",
       " 'mean_score_time': array([0.00319138, 0.00379   , 0.00279217, 0.00259285, 0.00299139,\n",
       "        0.00239363, 0.00239344, 0.00339074, 0.00299168, 0.00259328]),\n",
       " 'std_score_time': array([1.93455914e-03, 1.16333369e-03, 3.98898221e-04, 4.88363628e-04,\n",
       "        2.33601546e-07, 4.88402600e-04, 4.88655554e-04, 7.98130064e-04,\n",
       "        1.23426238e-06, 4.88033036e-04]),\n",
       " 'param_n_neighbors': masked_array(data=[5, 10, 15, 20, 25, 30, 35, 40, 45, 50],\n",
       "              mask=[False, False, False, False, False, False, False, False,\n",
       "                    False, False],\n",
       "        fill_value='?',\n",
       "             dtype=object),\n",
       " 'params': [{'n_neighbors': 5},\n",
       "  {'n_neighbors': 10},\n",
       "  {'n_neighbors': 15},\n",
       "  {'n_neighbors': 20},\n",
       "  {'n_neighbors': 25},\n",
       "  {'n_neighbors': 30},\n",
       "  {'n_neighbors': 35},\n",
       "  {'n_neighbors': 40},\n",
       "  {'n_neighbors': 45},\n",
       "  {'n_neighbors': 50}],\n",
       " 'split0_test_score': array([0.9       , 0.8       , 0.86666667, 0.83333333, 0.76666667,\n",
       "        0.76666667, 0.7       , 0.73333333, 0.7       , 0.7       ]),\n",
       " 'split1_test_score': array([0.96666667, 0.93333333, 0.83333333, 0.8       , 0.76666667,\n",
       "        0.76666667, 0.76666667, 0.8       , 0.73333333, 0.73333333]),\n",
       " 'split2_test_score': array([0.86666667, 0.83333333, 0.8       , 0.8       , 0.76666667,\n",
       "        0.76666667, 0.73333333, 0.73333333, 0.6       , 0.53333333]),\n",
       " 'split3_test_score': array([0.9       , 0.86666667, 0.9       , 0.83333333, 0.73333333,\n",
       "        0.73333333, 0.73333333, 0.73333333, 0.7       , 0.6       ]),\n",
       " 'split4_test_score': array([0.93103448, 0.86206897, 0.82758621, 0.82758621, 0.79310345,\n",
       "        0.79310345, 0.79310345, 0.79310345, 0.79310345, 0.82758621]),\n",
       " 'mean_test_score': array([0.91287356, 0.85908046, 0.84551724, 0.81885057, 0.76528736,\n",
       "        0.76528736, 0.74528736, 0.75862069, 0.70528736, 0.67885057]),\n",
       " 'std_test_score': array([0.03373441, 0.04412117, 0.03451799, 0.01553384, 0.01897631,\n",
       "        0.01897631, 0.03187537, 0.03104725, 0.06267309, 0.10288891]),\n",
       " 'rank_test_score': array([ 1,  2,  3,  4,  5,  5,  8,  7,  9, 10])}"
      ]
     },
     "execution_count": 36,
     "metadata": {},
     "output_type": "execute_result"
    }
   ],
   "source": [
    "clf_gs.cv_results_"
   ]
  },
  {
   "cell_type": "markdown",
   "id": "0ff793b3",
   "metadata": {},
   "source": [
    "Лучшая модель:"
   ]
  },
  {
   "cell_type": "code",
   "execution_count": 37,
   "id": "3fac9c2e",
   "metadata": {},
   "outputs": [
    {
     "data": {
      "text/plain": [
       "KNeighborsClassifier()"
      ]
     },
     "execution_count": 37,
     "metadata": {},
     "output_type": "execute_result"
    }
   ],
   "source": [
    "clf_gs.best_estimator_"
   ]
  },
  {
   "cell_type": "markdown",
   "id": "c38418e9",
   "metadata": {},
   "source": [
    "Лучшее значение метрики:"
   ]
  },
  {
   "cell_type": "code",
   "execution_count": 38,
   "id": "3d56d7bd",
   "metadata": {},
   "outputs": [
    {
     "data": {
      "text/plain": [
       "0.9128735632183907"
      ]
     },
     "execution_count": 38,
     "metadata": {},
     "output_type": "execute_result"
    }
   ],
   "source": [
    "clf_gs.best_score_"
   ]
  },
  {
   "cell_type": "markdown",
   "id": "f8931cb3",
   "metadata": {},
   "source": [
    "Лучшее значение параметров:"
   ]
  },
  {
   "cell_type": "code",
   "execution_count": 39,
   "id": "6ac378f1",
   "metadata": {},
   "outputs": [
    {
     "data": {
      "text/plain": [
       "{'n_neighbors': 5}"
      ]
     },
     "execution_count": 39,
     "metadata": {},
     "output_type": "execute_result"
    }
   ],
   "source": [
    "clf_gs.best_params_"
   ]
  },
  {
   "cell_type": "markdown",
   "id": "d2fd2671",
   "metadata": {},
   "source": [
    "Изменение качества на тестовой выборке в зависимости от К-соседей:"
   ]
  },
  {
   "cell_type": "code",
   "execution_count": 40,
   "id": "6a61b0cc",
   "metadata": {},
   "outputs": [
    {
     "data": {
      "text/plain": [
       "[<matplotlib.lines.Line2D at 0x13cecd73ca0>]"
      ]
     },
     "execution_count": 40,
     "metadata": {},
     "output_type": "execute_result"
    },
    {
     "data": {
      "image/png": "[encoded data removed]",
      "text/plain": [
       "<Figure size 432x288 with 1 Axes>"
      ]
     },
     "metadata": {},
     "output_type": "display_data"
    }
   ],
   "source": [
    "plt.plot(n_range, clf_gs.cv_results_['mean_test_score'])"
   ]
  },
  {
   "cell_type": "markdown",
   "id": "2347f640",
   "metadata": {},
   "source": [
    "#### Через RandomizedSearch"
   ]
  },
  {
   "cell_type": "code",
   "execution_count": 41,
   "id": "2dcf54fe",
   "metadata": {},
   "outputs": [],
   "source": [
    "from sklearn.model_selection import RandomizedSearchCV"
   ]
  },
  {
   "cell_type": "code",
   "execution_count": 42,
   "id": "f062d1c6",
   "metadata": {},
   "outputs": [
    {
     "name": "stdout",
     "output_type": "stream",
     "text": [
      "CPU times: total: 312 ms\n",
      "Wall time: 310 ms\n"
     ]
    },
    {
     "data": {
      "text/plain": [
       "RandomizedSearchCV(cv=5, estimator=KNeighborsClassifier(),\n",
       "                   param_distributions=[{'n_neighbors': array([ 5, 10, 15, 20, 25, 30, 35, 40, 45, 50])}],\n",
       "                   scoring='accuracy')"
      ]
     },
     "execution_count": 42,
     "metadata": {},
     "output_type": "execute_result"
    }
   ],
   "source": [
    "%%time\n",
    "clf_rs = RandomizedSearchCV(KNeighborsClassifier(), tuned_parameters, cv=5, scoring='accuracy')\n",
    "clf_rs.fit(gl_x_train, gl_y_train)"
   ]
  },
  {
   "cell_type": "markdown",
   "id": "a9cd4ffc",
   "metadata": {},
   "source": [
    "Оптимальные параметры:"
   ]
  },
  {
   "cell_type": "code",
   "execution_count": 43,
   "id": "89fccded",
   "metadata": {},
   "outputs": [
    {
     "data": {
      "text/plain": [
       "(0.9128735632183907, {'n_neighbors': 5})"
      ]
     },
     "execution_count": 43,
     "metadata": {},
     "output_type": "execute_result"
    }
   ],
   "source": [
    "clf_rs.best_score_, clf_rs.best_params_"
   ]
  },
  {
   "cell_type": "markdown",
   "id": "9f12a01f",
   "metadata": {},
   "source": [
    "Изменение качества на тестовой выборке в зависимости от К-соседей:"
   ]
  },
  {
   "cell_type": "code",
   "execution_count": 44,
   "id": "45765c20",
   "metadata": {
    "scrolled": true
   },
   "outputs": [
    {
     "data": {
      "text/plain": [
       "[<matplotlib.lines.Line2D at 0x13cec1c5b80>]"
      ]
     },
     "execution_count": 44,
     "metadata": {},
     "output_type": "execute_result"
    },
    {
     "data": {
      "image/png": "[encoded data removed]",
      "text/plain": [
       "<Figure size 432x288 with 1 Axes>"
      ]
     },
     "metadata": {},
     "output_type": "display_data"
    }
   ],
   "source": [
    "plt.plot(n_range, clf_rs.cv_results_['mean_test_score'])"
   ]
  },
  {
   "cell_type": "markdown",
   "id": "eeffd808",
   "metadata": {},
   "source": [
    "### Построение оптимальной модели"
   ]
  },
  {
   "cell_type": "markdown",
   "id": "8ca7fa6f",
   "metadata": {},
   "source": [
    "Оптимальное число ближайших соседей = 5. Построим оптимальную модель:"
   ]
  },
  {
   "cell_type": "code",
   "execution_count": 45,
   "id": "c8a681bb",
   "metadata": {},
   "outputs": [
    {
     "data": {
      "text/plain": [
       "(65,\n",
       " array([2, 7, 2, 2, 1, 1, 1, 3, 1, 1, 2, 1, 2, 1, 3, 2, 2, 2, 3, 1, 1, 7,\n",
       "        2, 1, 3, 1, 2, 2, 1, 1, 5, 6, 1, 1, 1, 1, 3, 3, 2, 1, 1, 7, 7, 1,\n",
       "        7, 1, 1, 1, 2, 7, 3, 2, 2, 2, 5, 2, 7, 1, 7, 7, 2, 2, 2, 2, 1],\n",
       "       dtype=int64))"
      ]
     },
     "execution_count": 45,
     "metadata": {},
     "output_type": "execute_result"
    }
   ],
   "source": [
    "clf_o = KNeighborsClassifier(n_neighbors=5)\n",
    "clf_o.fit(gl_x_train, gl_y_train)\n",
    "target_o = clf_o.predict(gl_x_test)\n",
    "len(target_o), target_o"
   ]
  },
  {
   "cell_type": "markdown",
   "id": "1a1ad8d8",
   "metadata": {},
   "source": [
    "## 5. Оценка качества исходной и оптимальной модели"
   ]
  },
  {
   "cell_type": "markdown",
   "id": "df50e6e7",
   "metadata": {},
   "source": [
    "### Метрика Accuracy"
   ]
  },
  {
   "cell_type": "markdown",
   "id": "7590c0fc",
   "metadata": {},
   "source": [
    "Она вычисляет процент (в долях) правильно определенных типов."
   ]
  },
  {
   "cell_type": "code",
   "execution_count": 46,
   "id": "c7837037",
   "metadata": {},
   "outputs": [],
   "source": [
    "from sklearn.metrics import accuracy_score, balanced_accuracy_score"
   ]
  },
  {
   "cell_type": "markdown",
   "id": "e4f2cdfb",
   "metadata": {},
   "source": [
    "Проверим для всех типов исходной модели:"
   ]
  },
  {
   "cell_type": "code",
   "execution_count": 47,
   "id": "a462224e",
   "metadata": {},
   "outputs": [
    {
     "data": {
      "text/plain": [
       "0.8615384615384616"
      ]
     },
     "execution_count": 47,
     "metadata": {},
     "output_type": "execute_result"
    }
   ],
   "source": [
    "accuracy_score(gl_y_test, target_i)"
   ]
  },
  {
   "cell_type": "markdown",
   "id": "e22febc9",
   "metadata": {},
   "source": [
    "И оптимальной модели:"
   ]
  },
  {
   "cell_type": "code",
   "execution_count": 48,
   "id": "669550fd",
   "metadata": {},
   "outputs": [
    {
     "data": {
      "text/plain": [
       "1.0"
      ]
     },
     "execution_count": 48,
     "metadata": {},
     "output_type": "execute_result"
    }
   ],
   "source": [
    "accuracy_score(gl_y_test, target_o)"
   ]
  },
  {
   "cell_type": "markdown",
   "id": "dd984067",
   "metadata": {},
   "source": [
    "Видно, что точность оптимальной модели (5 ближайших соседей) выше, чем в исходной модели (20)."
   ]
  },
  {
   "cell_type": "markdown",
   "id": "86661a04",
   "metadata": {},
   "source": [
    "Теперь проверим для каждого конкретного типа:"
   ]
  },
  {
   "cell_type": "code",
   "execution_count": 49,
   "id": "74b5c1f2",
   "metadata": {},
   "outputs": [],
   "source": [
    "def accuracy_score_for_types(\n",
    "    y_true: np.ndarray, \n",
    "    y_pred: np.ndarray) -> Dict[int, float]:\n",
    "    d = {'t': y_true, 'p': y_pred}\n",
    "    df = pd.DataFrame(data=d)\n",
    "    types = np.unique(y_true)\n",
    "    res = dict()\n",
    "    for t in types:\n",
    "        temp_data_flt = df[df['t']==t]\n",
    "        temp_acc = accuracy_score(\n",
    "            temp_data_flt['t'].values, \n",
    "            temp_data_flt['p'].values)\n",
    "        res[t] = temp_acc\n",
    "    return res\n",
    "\n",
    "def print_accuracy_score_for_types(\n",
    "    y_true: np.ndarray, \n",
    "    y_pred: np.ndarray):\n",
    "    accs = accuracy_score_for_types(y_true, y_pred)\n",
    "    if len(accs)>0:\n",
    "        print('Тип \\t Accuracy')\n",
    "    for i in accs:\n",
    "        print('{} \\t {}'.format(i, accs[i]))"
   ]
  },
  {
   "cell_type": "markdown",
   "id": "214e7d4a",
   "metadata": {},
   "source": [
    "Для исходной модели:"
   ]
  },
  {
   "cell_type": "code",
   "execution_count": 50,
   "id": "254d099a",
   "metadata": {},
   "outputs": [
    {
     "name": "stdout",
     "output_type": "stream",
     "text": [
      "Тип \t Accuracy\n",
      "1 \t 1.0\n",
      "2 \t 0.9523809523809523\n",
      "3 \t 0.0\n",
      "5 \t 1.0\n",
      "6 \t 0.0\n",
      "7 \t 1.0\n"
     ]
    }
   ],
   "source": [
    "print_accuracy_score_for_types(gl_y_test, target_i)"
   ]
  },
  {
   "cell_type": "markdown",
   "id": "3d36f2fd",
   "metadata": {},
   "source": [
    "Видим, что процент \"Accuracy\" для типа 2 составляет 95%, а для типов 3 и 6 - 0%. Для типов 1, 5, 7 \"Accuracy\" составляет 100%."
   ]
  },
  {
   "cell_type": "markdown",
   "id": "714bd1f3",
   "metadata": {},
   "source": [
    "Для оптимальной модели:"
   ]
  },
  {
   "cell_type": "code",
   "execution_count": 51,
   "id": "3b4152c5",
   "metadata": {},
   "outputs": [
    {
     "name": "stdout",
     "output_type": "stream",
     "text": [
      "Тип \t Accuracy\n",
      "1 \t 1.0\n",
      "2 \t 1.0\n",
      "3 \t 1.0\n",
      "5 \t 1.0\n",
      "6 \t 1.0\n",
      "7 \t 1.0\n"
     ]
    }
   ],
   "source": [
    "print_accuracy_score_for_types(gl_y_test, target_o)"
   ]
  },
  {
   "cell_type": "markdown",
   "id": "cf1c346e",
   "metadata": {},
   "source": [
    "Все типы имеют \"Accuracy\" 100%."
   ]
  },
  {
   "cell_type": "markdown",
   "id": "d04c6cce",
   "metadata": {},
   "source": [
    "### Метрика balanced_accuracy_score"
   ]
  },
  {
   "cell_type": "markdown",
   "id": "0b78318c",
   "metadata": {},
   "source": [
    "Используется для бинарной классификации. Сконвертируем данные и выведем метрику:"
   ]
  },
  {
   "cell_type": "code",
   "execution_count": 52,
   "id": "149843e1",
   "metadata": {},
   "outputs": [],
   "source": [
    "def convert_target_to_binary(array:np.ndarray, target:int) -> np.ndarray:\n",
    "    res = [1 if x==target else 0 for x in array]\n",
    "    return res"
   ]
  },
  {
   "cell_type": "code",
   "execution_count": 53,
   "id": "e651d160",
   "metadata": {},
   "outputs": [
    {
     "data": {
      "text/plain": [
       "[(7, 0),\n",
       " (5, 0),\n",
       " (1, 0),\n",
       " (6, 0),\n",
       " (1, 0),\n",
       " (2, 1),\n",
       " (1, 0),\n",
       " (2, 1),\n",
       " (3, 0),\n",
       " (2, 1)]"
      ]
     },
     "execution_count": 53,
     "metadata": {},
     "output_type": "execute_result"
    }
   ],
   "source": [
    "bin_gl_y_train = convert_target_to_binary(gl_y_train, 2)\n",
    "list(zip(gl_y_train, bin_gl_y_train))[:10]"
   ]
  },
  {
   "cell_type": "code",
   "execution_count": 54,
   "id": "96b5fa27",
   "metadata": {},
   "outputs": [
    {
     "data": {
      "text/plain": [
       "[(2, 1),\n",
       " (7, 0),\n",
       " (2, 1),\n",
       " (2, 1),\n",
       " (1, 0),\n",
       " (1, 0),\n",
       " (1, 0),\n",
       " (3, 0),\n",
       " (1, 0),\n",
       " (1, 0)]"
      ]
     },
     "execution_count": 54,
     "metadata": {},
     "output_type": "execute_result"
    }
   ],
   "source": [
    "bin_gl_y_test = convert_target_to_binary(gl_y_test, 2)\n",
    "list(zip(gl_y_test, bin_gl_y_test))[:10]"
   ]
  },
  {
   "cell_type": "markdown",
   "id": "b8fcb97f",
   "metadata": {},
   "source": [
    "Для исходной модели:"
   ]
  },
  {
   "cell_type": "code",
   "execution_count": 55,
   "id": "8f126e35",
   "metadata": {},
   "outputs": [],
   "source": [
    "bin_target_i = convert_target_to_binary(target_i, 2)"
   ]
  },
  {
   "cell_type": "code",
   "execution_count": 56,
   "id": "a500659e",
   "metadata": {},
   "outputs": [
    {
     "data": {
      "text/plain": [
       "0.8966450216450217"
      ]
     },
     "execution_count": 56,
     "metadata": {},
     "output_type": "execute_result"
    }
   ],
   "source": [
    "balanced_accuracy_score(bin_gl_y_test, bin_target_i)"
   ]
  },
  {
   "cell_type": "markdown",
   "id": "25eed308",
   "metadata": {},
   "source": [
    "Для оптимальной модели:"
   ]
  },
  {
   "cell_type": "code",
   "execution_count": 57,
   "id": "d7e126fe",
   "metadata": {},
   "outputs": [],
   "source": [
    "bin_target_o = convert_target_to_binary(target_o, 2)"
   ]
  },
  {
   "cell_type": "code",
   "execution_count": 58,
   "id": "4ef5dbca",
   "metadata": {},
   "outputs": [
    {
     "data": {
      "text/plain": [
       "1.0"
      ]
     },
     "execution_count": 58,
     "metadata": {},
     "output_type": "execute_result"
    }
   ],
   "source": [
    "balanced_accuracy_score(bin_gl_y_test, bin_target_o)"
   ]
  },
  {
   "cell_type": "markdown",
   "id": "7a1718c6",
   "metadata": {},
   "source": [
    "Видно, что у исходной модели метрика составляет 89%, а у оптимальной - 100%."
   ]
  },
  {
   "cell_type": "markdown",
   "id": "46ac32c0",
   "metadata": {},
   "source": [
    "### Метрика \"Матрица ошибок\""
   ]
  },
  {
   "cell_type": "markdown",
   "id": "ef6f3fa9",
   "metadata": {},
   "source": [
    "Создадим матрицу с помощью функции confusion_matrix:"
   ]
  },
  {
   "cell_type": "code",
   "execution_count": 59,
   "id": "45fe47eb",
   "metadata": {},
   "outputs": [],
   "source": [
    "from sklearn.metrics import ConfusionMatrixDisplay\n",
    "from sklearn.metrics import confusion_matrix"
   ]
  },
  {
   "cell_type": "markdown",
   "id": "b0eb2571",
   "metadata": {},
   "source": [
    "Для исходной модели:"
   ]
  },
  {
   "cell_type": "code",
   "execution_count": 60,
   "id": "b4b9918e",
   "metadata": {},
   "outputs": [
    {
     "data": {
      "text/plain": [
       "array([[ 0,  0,  0,  0,  0,  0,  0,  0],\n",
       "       [ 0, 25,  0,  0,  0,  0,  0,  0],\n",
       "       [ 0,  1, 20,  0,  0,  0,  0,  0],\n",
       "       [ 0,  0,  7,  0,  0,  0,  0,  0],\n",
       "       [ 0,  0,  0,  0,  0,  0,  0,  0],\n",
       "       [ 0,  0,  0,  0,  0,  2,  0,  0],\n",
       "       [ 0,  0,  0,  0,  0,  0,  0,  1],\n",
       "       [ 0,  0,  0,  0,  0,  0,  0,  9]], dtype=int64)"
      ]
     },
     "execution_count": 60,
     "metadata": {},
     "output_type": "execute_result"
    }
   ],
   "source": [
    "confusion_matrix(gl_y_test, target_i, labels=[0, 1, 2, 3, 4, 5, 6, 7])"
   ]
  },
  {
   "cell_type": "markdown",
   "id": "7535dea6",
   "metadata": {},
   "source": [
    "Визуально представим матрицу ошибок, показывающую количество верно и ошибочно классифицированных данных:"
   ]
  },
  {
   "cell_type": "code",
   "execution_count": 61,
   "id": "07b35f8e",
   "metadata": {},
   "outputs": [
    {
     "data": {
      "text/plain": [
       "<sklearn.metrics._plot.confusion_matrix.ConfusionMatrixDisplay at 0x13cec1002e0>"
      ]
     },
     "execution_count": 61,
     "metadata": {},
     "output_type": "execute_result"
    },
    {
     "data": {
      "image/png": "[encoded data removed]",
      "text/plain": [
       "<Figure size 432x288 with 2 Axes>"
      ]
     },
     "metadata": {},
     "output_type": "display_data"
    }
   ],
   "source": [
    "ConfusionMatrixDisplay.from_estimator(\n",
    "        clf_i,\n",
    "        gl_x_test,\n",
    "        gl_y_test,\n",
    "        display_labels=clf_i.classes_,\n",
    "        cmap=plt.cm.Blues,\n",
    "        normalize='true',\n",
    "    )"
   ]
  },
  {
   "cell_type": "markdown",
   "id": "e40288be",
   "metadata": {},
   "source": [
    "Для оптимальной модели:"
   ]
  },
  {
   "cell_type": "code",
   "execution_count": 62,
   "id": "00717af1",
   "metadata": {},
   "outputs": [
    {
     "data": {
      "text/plain": [
       "array([[ 0,  0,  0,  0,  0,  0,  0,  0],\n",
       "       [ 0, 25,  0,  0,  0,  0,  0,  0],\n",
       "       [ 0,  0, 21,  0,  0,  0,  0,  0],\n",
       "       [ 0,  0,  0,  7,  0,  0,  0,  0],\n",
       "       [ 0,  0,  0,  0,  0,  0,  0,  0],\n",
       "       [ 0,  0,  0,  0,  0,  2,  0,  0],\n",
       "       [ 0,  0,  0,  0,  0,  0,  1,  0],\n",
       "       [ 0,  0,  0,  0,  0,  0,  0,  9]], dtype=int64)"
      ]
     },
     "execution_count": 62,
     "metadata": {},
     "output_type": "execute_result"
    }
   ],
   "source": [
    "confusion_matrix(gl_y_test, target_o, labels=[0, 1, 2, 3, 4, 5, 6, 7])"
   ]
  },
  {
   "cell_type": "code",
   "execution_count": 63,
   "id": "3eb0cbb5",
   "metadata": {},
   "outputs": [
    {
     "data": {
      "text/plain": [
       "<sklearn.metrics._plot.confusion_matrix.ConfusionMatrixDisplay at 0x13cec1be2b0>"
      ]
     },
     "execution_count": 63,
     "metadata": {},
     "output_type": "execute_result"
    },
    {
     "data": {
      "image/png": "[encoded data removed]",
      "text/plain": [
       "<Figure size 432x288 with 2 Axes>"
      ]
     },
     "metadata": {},
     "output_type": "display_data"
    }
   ],
   "source": [
    "ConfusionMatrixDisplay.from_estimator(\n",
    "        clf_o,\n",
    "        gl_x_test,\n",
    "        gl_y_test,\n",
    "        display_labels=clf_o.classes_,\n",
    "        cmap=plt.cm.Blues,\n",
    "        normalize='true',\n",
    "    )"
   ]
  },
  {
   "cell_type": "markdown",
   "id": "26ee5023",
   "metadata": {},
   "source": [
    "Точность у оптимальной модели выше, чем у исходной. "
   ]
  },
  {
   "cell_type": "markdown",
   "id": "9ea16d9f",
   "metadata": {},
   "source": [
    "### Метрика Precision"
   ]
  },
  {
   "cell_type": "markdown",
   "id": "af32afa0",
   "metadata": {},
   "source": [
    "Precision показывает долю верно предсказанных классификатором положительных объектов из всех объектов, которые классификатор верно или неверно определил как положительные."
   ]
  },
  {
   "cell_type": "code",
   "execution_count": 64,
   "id": "c5d9fa96",
   "metadata": {},
   "outputs": [],
   "source": [
    "from sklearn.metrics import precision_score"
   ]
  },
  {
   "cell_type": "markdown",
   "id": "c0a8a028",
   "metadata": {},
   "source": [
    "Для исходной модели:"
   ]
  },
  {
   "cell_type": "code",
   "execution_count": 65,
   "id": "16ac699f",
   "metadata": {},
   "outputs": [
    {
     "data": {
      "text/plain": [
       "0.7407407407407407"
      ]
     },
     "execution_count": 65,
     "metadata": {},
     "output_type": "execute_result"
    }
   ],
   "source": [
    "precision_score(bin_gl_y_test, bin_target_i)"
   ]
  },
  {
   "cell_type": "markdown",
   "id": "e3718863",
   "metadata": {},
   "source": [
    "Для оптимальной модели:"
   ]
  },
  {
   "cell_type": "code",
   "execution_count": 66,
   "id": "80b9e811",
   "metadata": {},
   "outputs": [
    {
     "data": {
      "text/plain": [
       "1.0"
      ]
     },
     "execution_count": 66,
     "metadata": {},
     "output_type": "execute_result"
    }
   ],
   "source": [
    "precision_score(bin_gl_y_test, bin_target_o)"
   ]
  },
  {
   "cell_type": "markdown",
   "id": "d9cd3537",
   "metadata": {},
   "source": [
    "Также видна улучшенная точность у оптимальной по отношению к исходной (100% и 74%)."
   ]
  },
  {
   "cell_type": "markdown",
   "id": "5c181d33",
   "metadata": {},
   "source": [
    "### Метрика Recall"
   ]
  },
  {
   "cell_type": "markdown",
   "id": "f802b6c8",
   "metadata": {},
   "source": [
    "Recall показывает долю верно предсказанных классификатором положительных объектов, из всех действительно положительных объектов."
   ]
  },
  {
   "cell_type": "code",
   "execution_count": 67,
   "id": "4eac8a30",
   "metadata": {},
   "outputs": [],
   "source": [
    "from sklearn.metrics import recall_score"
   ]
  },
  {
   "cell_type": "markdown",
   "id": "986cc4b8",
   "metadata": {},
   "source": [
    "Для исходной:"
   ]
  },
  {
   "cell_type": "code",
   "execution_count": 68,
   "id": "b4dff7e6",
   "metadata": {},
   "outputs": [
    {
     "data": {
      "text/plain": [
       "0.9523809523809523"
      ]
     },
     "execution_count": 68,
     "metadata": {},
     "output_type": "execute_result"
    }
   ],
   "source": [
    "recall_score(bin_gl_y_test, bin_target_i)"
   ]
  },
  {
   "cell_type": "markdown",
   "id": "5af296b0",
   "metadata": {},
   "source": [
    "Для оптимальной:"
   ]
  },
  {
   "cell_type": "code",
   "execution_count": 69,
   "id": "1df0c127",
   "metadata": {},
   "outputs": [
    {
     "data": {
      "text/plain": [
       "1.0"
      ]
     },
     "execution_count": 69,
     "metadata": {},
     "output_type": "execute_result"
    }
   ],
   "source": [
    "recall_score(bin_gl_y_test, bin_target_o)"
   ]
  },
  {
   "cell_type": "markdown",
   "id": "8d8428a8",
   "metadata": {},
   "source": [
    "Точность у оптимальной модели выше (100% против 95%)."
   ]
  },
  {
   "cell_type": "markdown",
   "id": "f6a9f12a",
   "metadata": {},
   "source": [
    "### Метрика F1-мера"
   ]
  },
  {
   "cell_type": "markdown",
   "id": "36709ed2",
   "metadata": {},
   "source": [
    "Для объединения метрик Precision и Recall используют F-меру - среднее гармоническое от Precision и Recall. В F1 мере вес точности = 1."
   ]
  },
  {
   "cell_type": "code",
   "execution_count": 70,
   "id": "3978319e",
   "metadata": {},
   "outputs": [],
   "source": [
    "from sklearn.metrics import f1_score"
   ]
  },
  {
   "cell_type": "markdown",
   "id": "9183d26e",
   "metadata": {},
   "source": [
    "Для исходной:"
   ]
  },
  {
   "cell_type": "code",
   "execution_count": 71,
   "id": "3513f5ae",
   "metadata": {},
   "outputs": [
    {
     "data": {
      "text/plain": [
       "0.8333333333333334"
      ]
     },
     "execution_count": 71,
     "metadata": {},
     "output_type": "execute_result"
    }
   ],
   "source": [
    "f1_score(bin_gl_y_test, bin_target_i)"
   ]
  },
  {
   "cell_type": "markdown",
   "id": "71391f7e",
   "metadata": {},
   "source": [
    "Для оптимальной:"
   ]
  },
  {
   "cell_type": "code",
   "execution_count": 72,
   "id": "f844516b",
   "metadata": {},
   "outputs": [
    {
     "data": {
      "text/plain": [
       "1.0"
      ]
     },
     "execution_count": 72,
     "metadata": {},
     "output_type": "execute_result"
    }
   ],
   "source": [
    "f1_score(bin_gl_y_test, bin_target_o)"
   ]
  },
  {
   "cell_type": "markdown",
   "id": "811db8e9",
   "metadata": {},
   "source": [
    "### Вывод метрик через classification_report"
   ]
  },
  {
   "cell_type": "markdown",
   "id": "458f83a6",
   "metadata": {},
   "source": [
    "Функция classification_report позволяет выводить значения точности, полноты и F-меры для всех классов выборки:"
   ]
  },
  {
   "cell_type": "code",
   "execution_count": 73,
   "id": "7103e601",
   "metadata": {},
   "outputs": [],
   "source": [
    "from sklearn.metrics import classification_report"
   ]
  },
  {
   "cell_type": "markdown",
   "id": "db39562d",
   "metadata": {},
   "source": [
    "Для исходной:"
   ]
  },
  {
   "cell_type": "code",
   "execution_count": 74,
   "id": "1616226a",
   "metadata": {},
   "outputs": [
    {
     "data": {
      "text/plain": [
       "{1: {'precision': 0.9615384615384616,\n",
       "  'recall': 1.0,\n",
       "  'f1-score': 0.9803921568627451,\n",
       "  'support': 25},\n",
       " 2: {'precision': 0.7407407407407407,\n",
       "  'recall': 0.9523809523809523,\n",
       "  'f1-score': 0.8333333333333334,\n",
       "  'support': 21},\n",
       " 3: {'precision': 0.0, 'recall': 0.0, 'f1-score': 0.0, 'support': 7},\n",
       " 5: {'precision': 1.0, 'recall': 1.0, 'f1-score': 1.0, 'support': 2},\n",
       " 6: {'precision': 0.0, 'recall': 0.0, 'f1-score': 0.0, 'support': 1},\n",
       " 7: {'precision': 0.9,\n",
       "  'recall': 1.0,\n",
       "  'f1-score': 0.9473684210526316,\n",
       "  'support': 9},\n",
       " 'accuracy': 0.8615384615384616,\n",
       " 'macro avg': {'precision': 0.6003798670465337,\n",
       "  'recall': 0.6587301587301587,\n",
       "  'f1-score': 0.6268489852081184,\n",
       "  'support': 65},\n",
       " 'weighted avg': {'precision': 0.7645233399079554,\n",
       "  'recall': 0.8615384615384616,\n",
       "  'f1-score': 0.8082479955544971,\n",
       "  'support': 65}}"
      ]
     },
     "execution_count": 74,
     "metadata": {},
     "output_type": "execute_result"
    }
   ],
   "source": [
    "import warnings\n",
    "warnings.filterwarnings('ignore')\n",
    "classification_report(gl_y_test, target_i, \n",
    "                      target_names=clf_i.classes_, output_dict=True)"
   ]
  },
  {
   "cell_type": "markdown",
   "id": "b151cd84",
   "metadata": {},
   "source": [
    "Для оптимальной:"
   ]
  },
  {
   "cell_type": "code",
   "execution_count": 75,
   "id": "fd69b0a6",
   "metadata": {},
   "outputs": [
    {
     "data": {
      "text/plain": [
       "{1: {'precision': 1.0, 'recall': 1.0, 'f1-score': 1.0, 'support': 25},\n",
       " 2: {'precision': 1.0, 'recall': 1.0, 'f1-score': 1.0, 'support': 21},\n",
       " 3: {'precision': 1.0, 'recall': 1.0, 'f1-score': 1.0, 'support': 7},\n",
       " 5: {'precision': 1.0, 'recall': 1.0, 'f1-score': 1.0, 'support': 2},\n",
       " 6: {'precision': 1.0, 'recall': 1.0, 'f1-score': 1.0, 'support': 1},\n",
       " 7: {'precision': 1.0, 'recall': 1.0, 'f1-score': 1.0, 'support': 9},\n",
       " 'accuracy': 1.0,\n",
       " 'macro avg': {'precision': 1.0,\n",
       "  'recall': 1.0,\n",
       "  'f1-score': 1.0,\n",
       "  'support': 65},\n",
       " 'weighted avg': {'precision': 1.0,\n",
       "  'recall': 1.0,\n",
       "  'f1-score': 1.0,\n",
       "  'support': 65}}"
      ]
     },
     "execution_count": 75,
     "metadata": {},
     "output_type": "execute_result"
    }
   ],
   "source": [
    "import warnings\n",
    "warnings.filterwarnings('ignore')\n",
    "classification_report(gl_y_test, target_o, \n",
    "                      target_names=clf_o.classes_, output_dict=True)"
   ]
  },
  {
   "cell_type": "markdown",
   "id": "cce266ae",
   "metadata": {},
   "source": [
    "### ROC-кривая и ROC AUC"
   ]
  },
  {
   "cell_type": "markdown",
   "id": "7a259016",
   "metadata": {},
   "source": [
    "Используется для оценки качества бинарной классификации."
   ]
  },
  {
   "cell_type": "markdown",
   "id": "db2ba8ae",
   "metadata": {},
   "source": [
    "Обучим исходную модель на основе бинарной классифкации, чтобы получить вероятности типов:"
   ]
  },
  {
   "cell_type": "code",
   "execution_count": 76,
   "id": "d6ad55e2",
   "metadata": {},
   "outputs": [
    {
     "data": {
      "text/plain": [
       "array([0, 0, 0, 0, 0, 0, 0, 1, 0, 0, 1, 0, 1, 0, 1, 0, 1, 1, 0, 0, 0, 0,\n",
       "       1, 0, 1, 0, 1, 1, 0, 0, 0, 0, 0, 0, 0, 0, 1, 1, 0, 0, 0, 0, 0, 0,\n",
       "       0, 0, 0, 0, 1, 0, 1, 1, 1, 1, 0, 1, 0, 0, 0, 0, 1, 0, 1, 1, 0])"
      ]
     },
     "execution_count": 76,
     "metadata": {},
     "output_type": "execute_result"
    }
   ],
   "source": [
    "bin_clf_i = KNeighborsClassifier(n_neighbors=20)\n",
    "bin_clf_i.fit(gl_x_train, bin_gl_y_train)\n",
    "bin_clf_i.predict(gl_x_test)"
   ]
  },
  {
   "cell_type": "markdown",
   "id": "322ec90f",
   "metadata": {},
   "source": [
    "Предскажем вероятности типов:"
   ]
  },
  {
   "cell_type": "code",
   "execution_count": 77,
   "id": "afa172b9",
   "metadata": {},
   "outputs": [
    {
     "data": {
      "text/plain": [
       "(65,\n",
       " array([[0.55, 0.45],\n",
       "        [1.  , 0.  ],\n",
       "        [0.5 , 0.5 ],\n",
       "        [0.55, 0.45],\n",
       "        [1.  , 0.  ],\n",
       "        [1.  , 0.  ],\n",
       "        [1.  , 0.  ],\n",
       "        [0.4 , 0.6 ],\n",
       "        [1.  , 0.  ],\n",
       "        [1.  , 0.  ],\n",
       "        [0.  , 1.  ],\n",
       "        [0.9 , 0.1 ],\n",
       "        [0.  , 1.  ],\n",
       "        [0.9 , 0.1 ],\n",
       "        [0.45, 0.55],\n",
       "        [0.55, 0.45],\n",
       "        [0.  , 1.  ],\n",
       "        [0.25, 0.75],\n",
       "        [0.6 , 0.4 ],\n",
       "        [0.9 , 0.1 ],\n",
       "        [1.  , 0.  ],\n",
       "        [1.  , 0.  ],\n",
       "        [0.15, 0.85],\n",
       "        [1.  , 0.  ],\n",
       "        [0.4 , 0.6 ],\n",
       "        [1.  , 0.  ],\n",
       "        [0.  , 1.  ],\n",
       "        [0.  , 1.  ],\n",
       "        [1.  , 0.  ],\n",
       "        [0.95, 0.05],\n",
       "        [0.95, 0.05],\n",
       "        [1.  , 0.  ],\n",
       "        [1.  , 0.  ],\n",
       "        [1.  , 0.  ],\n",
       "        [1.  , 0.  ],\n",
       "        [0.75, 0.25],\n",
       "        [0.4 , 0.6 ],\n",
       "        [0.4 , 0.6 ],\n",
       "        [0.5 , 0.5 ],\n",
       "        [1.  , 0.  ],\n",
       "        [1.  , 0.  ],\n",
       "        [1.  , 0.  ],\n",
       "        [1.  , 0.  ],\n",
       "        [0.9 , 0.1 ],\n",
       "        [1.  , 0.  ],\n",
       "        [1.  , 0.  ],\n",
       "        [1.  , 0.  ],\n",
       "        [1.  , 0.  ],\n",
       "        [0.  , 1.  ],\n",
       "        [1.  , 0.  ],\n",
       "        [0.4 , 0.6 ],\n",
       "        [0.  , 1.  ],\n",
       "        [0.  , 1.  ],\n",
       "        [0.  , 1.  ],\n",
       "        [0.8 , 0.2 ],\n",
       "        [0.  , 1.  ],\n",
       "        [1.  , 0.  ],\n",
       "        [0.95, 0.05],\n",
       "        [1.  , 0.  ],\n",
       "        [1.  , 0.  ],\n",
       "        [0.  , 1.  ],\n",
       "        [0.65, 0.35],\n",
       "        [0.  , 1.  ],\n",
       "        [0.  , 1.  ],\n",
       "        [1.  , 0.  ]]))"
      ]
     },
     "execution_count": 77,
     "metadata": {},
     "output_type": "execute_result"
    }
   ],
   "source": [
    "proba_target_i = bin_clf_i.predict_proba(gl_x_test)\n",
    "len(proba_target_i), proba_target_i"
   ]
  },
  {
   "cell_type": "markdown",
   "id": "29804f15",
   "metadata": {},
   "source": [
    "Вероятность единичного класса:"
   ]
  },
  {
   "cell_type": "code",
   "execution_count": 78,
   "id": "7c7db20b",
   "metadata": {},
   "outputs": [
    {
     "data": {
      "text/plain": [
       "array([0.45, 0.  , 0.5 , 0.45, 0.  , 0.  , 0.  , 0.6 , 0.  , 0.  , 1.  ,\n",
       "       0.1 , 1.  , 0.1 , 0.55, 0.45, 1.  , 0.75, 0.4 , 0.1 , 0.  , 0.  ,\n",
       "       0.85, 0.  , 0.6 , 0.  , 1.  , 1.  , 0.  , 0.05, 0.05, 0.  , 0.  ,\n",
       "       0.  , 0.  , 0.25, 0.6 , 0.6 , 0.5 , 0.  , 0.  , 0.  , 0.  , 0.1 ,\n",
       "       0.  , 0.  , 0.  , 0.  , 1.  , 0.  , 0.6 , 1.  , 1.  , 1.  , 0.2 ,\n",
       "       1.  , 0.  , 0.05, 0.  , 0.  , 1.  , 0.35, 1.  , 1.  , 0.  ])"
      ]
     },
     "execution_count": 78,
     "metadata": {},
     "output_type": "execute_result"
    }
   ],
   "source": [
    "true_proba_target_i = proba_target_i[:,1]\n",
    "true_proba_target_i"
   ]
  },
  {
   "cell_type": "markdown",
   "id": "ea841a4e",
   "metadata": {},
   "source": [
    "ROC-кривая:"
   ]
  },
  {
   "cell_type": "code",
   "execution_count": 79,
   "id": "2eb005e3",
   "metadata": {},
   "outputs": [],
   "source": [
    "from sklearn.metrics import roc_curve, roc_auc_score"
   ]
  },
  {
   "cell_type": "code",
   "execution_count": 80,
   "id": "5c1d0459",
   "metadata": {},
   "outputs": [],
   "source": [
    "def draw_roc_curve(y_true, y_score, pos_label, average):\n",
    "    fpr, tpr, thresholds = roc_curve(y_true, y_score, \n",
    "                                     pos_label=pos_label)\n",
    "    roc_auc_value = roc_auc_score(y_true, y_score, average=average)\n",
    "    plt.figure()\n",
    "    lw = 2\n",
    "    plt.plot(fpr, tpr, color='darkorange',\n",
    "             lw=lw, label='ROC curve (area = %0.2f)' % roc_auc_value)\n",
    "    plt.plot([0, 1], [0, 1], color='navy', lw=lw, linestyle='--')\n",
    "    plt.xlim([0.0, 1.0])\n",
    "    plt.ylim([0.0, 1.05])\n",
    "    plt.xlabel('False Positive Rate')\n",
    "    plt.ylabel('True Positive Rate')\n",
    "    plt.title('Receiver operating characteristic')\n",
    "    plt.legend(loc=\"lower right\")\n",
    "    plt.show()"
   ]
  },
  {
   "cell_type": "code",
   "execution_count": 81,
   "id": "1f5ea0d6",
   "metadata": {},
   "outputs": [
    {
     "data": {
      "image/png": "[encoded data removed]",
      "text/plain": [
       "<Figure size 432x288 with 1 Axes>"
      ]
     },
     "metadata": {},
     "output_type": "display_data"
    }
   ],
   "source": [
    "draw_roc_curve(bin_gl_y_test, bin_target_i, pos_label=1, average='micro')"
   ]
  },
  {
   "cell_type": "markdown",
   "id": "e5fd24d5",
   "metadata": {},
   "source": [
    "Сделаем тоже самое для оптимальной модели:"
   ]
  },
  {
   "cell_type": "code",
   "execution_count": 82,
   "id": "d2c96d60",
   "metadata": {},
   "outputs": [
    {
     "data": {
      "text/plain": [
       "array([1, 0, 1, 1, 0, 0, 0, 0, 0, 0, 1, 0, 1, 0, 0, 1, 1, 1, 0, 0, 0, 0,\n",
       "       1, 0, 0, 0, 1, 1, 0, 0, 0, 0, 0, 0, 0, 0, 0, 0, 1, 0, 0, 0, 0, 0,\n",
       "       0, 0, 0, 0, 1, 0, 0, 1, 1, 1, 0, 1, 0, 0, 0, 0, 1, 1, 1, 1, 0])"
      ]
     },
     "execution_count": 82,
     "metadata": {},
     "output_type": "execute_result"
    }
   ],
   "source": [
    "bin_clf_o = KNeighborsClassifier(n_neighbors=5)\n",
    "bin_clf_o.fit(gl_x_train, bin_gl_y_train)\n",
    "bin_clf_o.predict(gl_x_test)"
   ]
  },
  {
   "cell_type": "code",
   "execution_count": 83,
   "id": "98fb506d",
   "metadata": {},
   "outputs": [
    {
     "data": {
      "text/plain": [
       "(65,\n",
       " array([[0.2, 0.8],\n",
       "        [1. , 0. ],\n",
       "        [0.2, 0.8],\n",
       "        [0.2, 0.8],\n",
       "        [1. , 0. ],\n",
       "        [1. , 0. ],\n",
       "        [1. , 0. ],\n",
       "        [1. , 0. ],\n",
       "        [1. , 0. ],\n",
       "        [1. , 0. ],\n",
       "        [0. , 1. ],\n",
       "        [1. , 0. ],\n",
       "        [0. , 1. ],\n",
       "        [1. , 0. ],\n",
       "        [1. , 0. ],\n",
       "        [0.2, 0.8],\n",
       "        [0. , 1. ],\n",
       "        [0. , 1. ],\n",
       "        [1. , 0. ],\n",
       "        [1. , 0. ],\n",
       "        [1. , 0. ],\n",
       "        [1. , 0. ],\n",
       "        [0. , 1. ],\n",
       "        [1. , 0. ],\n",
       "        [1. , 0. ],\n",
       "        [1. , 0. ],\n",
       "        [0. , 1. ],\n",
       "        [0. , 1. ],\n",
       "        [1. , 0. ],\n",
       "        [1. , 0. ],\n",
       "        [1. , 0. ],\n",
       "        [1. , 0. ],\n",
       "        [1. , 0. ],\n",
       "        [1. , 0. ],\n",
       "        [1. , 0. ],\n",
       "        [1. , 0. ],\n",
       "        [1. , 0. ],\n",
       "        [1. , 0. ],\n",
       "        [0. , 1. ],\n",
       "        [1. , 0. ],\n",
       "        [1. , 0. ],\n",
       "        [1. , 0. ],\n",
       "        [1. , 0. ],\n",
       "        [1. , 0. ],\n",
       "        [1. , 0. ],\n",
       "        [1. , 0. ],\n",
       "        [1. , 0. ],\n",
       "        [1. , 0. ],\n",
       "        [0. , 1. ],\n",
       "        [1. , 0. ],\n",
       "        [1. , 0. ],\n",
       "        [0. , 1. ],\n",
       "        [0. , 1. ],\n",
       "        [0. , 1. ],\n",
       "        [1. , 0. ],\n",
       "        [0. , 1. ],\n",
       "        [1. , 0. ],\n",
       "        [1. , 0. ],\n",
       "        [1. , 0. ],\n",
       "        [1. , 0. ],\n",
       "        [0. , 1. ],\n",
       "        [0.4, 0.6],\n",
       "        [0. , 1. ],\n",
       "        [0. , 1. ],\n",
       "        [1. , 0. ]]))"
      ]
     },
     "execution_count": 83,
     "metadata": {},
     "output_type": "execute_result"
    }
   ],
   "source": [
    "proba_target_o = bin_clf_o.predict_proba(gl_x_test)\n",
    "len(proba_target_o), proba_target_o"
   ]
  },
  {
   "cell_type": "code",
   "execution_count": 84,
   "id": "f769c013",
   "metadata": {},
   "outputs": [
    {
     "data": {
      "text/plain": [
       "array([0.8, 0. , 0.8, 0.8, 0. , 0. , 0. , 0. , 0. , 0. , 1. , 0. , 1. ,\n",
       "       0. , 0. , 0.8, 1. , 1. , 0. , 0. , 0. , 0. , 1. , 0. , 0. , 0. ,\n",
       "       1. , 1. , 0. , 0. , 0. , 0. , 0. , 0. , 0. , 0. , 0. , 0. , 1. ,\n",
       "       0. , 0. , 0. , 0. , 0. , 0. , 0. , 0. , 0. , 1. , 0. , 0. , 1. ,\n",
       "       1. , 1. , 0. , 1. , 0. , 0. , 0. , 0. , 1. , 0.6, 1. , 1. , 0. ])"
      ]
     },
     "execution_count": 84,
     "metadata": {},
     "output_type": "execute_result"
    }
   ],
   "source": [
    "true_proba_target_o = proba_target_o[:,1]\n",
    "true_proba_target_o"
   ]
  },
  {
   "cell_type": "code",
   "execution_count": 85,
   "id": "b6473637",
   "metadata": {},
   "outputs": [
    {
     "data": {
      "image/png": "[encoded data removed]",
      "text/plain": [
       "<Figure size 432x288 with 1 Axes>"
      ]
     },
     "metadata": {},
     "output_type": "display_data"
    }
   ],
   "source": [
    "draw_roc_curve(bin_gl_y_test, bin_target_o, pos_label=1, average='micro')"
   ]
  },
  {
   "cell_type": "markdown",
   "id": "05171c4b",
   "metadata": {},
   "source": [
    "Видно, что у оптимальной модели выше точность, чем у исходной."
   ]
  }
 ],
 "metadata": {
  "authors": [
   {
    "name": "Анцифров Никита Сергеевич"
   }
  ],
  "group": "ИУ5-61Б",
  "kernelspec": {
   "display_name": "Python 3 (ipykernel)",
   "language": "python",
   "name": "python3"
  },
  "lab_number": 1,
  "language_info": {
   "codemirror_mode": {
    "name": "ipython",
    "version": 3
   },
   "file_extension": ".py",
   "mimetype": "text/x-python",
   "name": "python",
   "nbconvert_exporter": "python",
   "pygments_lexer": "ipython3",
   "version": "3.9.9"
  },
  "title": "Разведочный анализ данных. Исследование и визуализация данных"
 },
 "nbformat": 4,
 "nbformat_minor": 5
}
