{
 "cells": [
  {
   "cell_type": "markdown",
   "id": "61f0104c",
   "metadata": {},
   "source": [
    "# Задание рубежного контроля и входные данные"
   ]
  },
  {
   "cell_type": "markdown",
   "id": "95498ce3",
   "metadata": {},
   "source": [
    "## Вариант 4 - задача 1 - набор данных 4."
   ]
  },
  {
   "cell_type": "markdown",
   "id": "34579e7f",
   "metadata": {},
   "source": [
    "### Задача 1."
   ]
  },
  {
   "cell_type": "markdown",
   "id": "e2639d1a",
   "metadata": {},
   "source": [
    "Для заданного набора данных провести корреляционный анализ. В случае наличия пропусков в данных удалить строки или колонки, содержащие пропуски. Сделать выводы о возможности построения моделей машинного обучения и о возможном вкладе признаков в модель."
   ]
  },
  {
   "cell_type": "markdown",
   "id": "d5a22747",
   "metadata": {},
   "source": [
    "### Дополнительное задание."
   ]
  },
  {
   "cell_type": "markdown",
   "id": "08b18eba",
   "metadata": {},
   "source": [
    "Для пары произвольных колонок данных построить график \"Диаграмма рассеяния\"."
   ]
  },
  {
   "cell_type": "markdown",
   "id": "0fe5f38e",
   "metadata": {},
   "source": [
    "### Набор данных 4."
   ]
  },
  {
   "cell_type": "markdown",
   "id": "48b6198c",
   "metadata": {},
   "source": [
    "Доступен по адресу: https://www.kaggle.com/carlolepelaars/toy-dataset"
   ]
  },
  {
   "cell_type": "markdown",
   "id": "908f39de",
   "metadata": {},
   "source": [
    "# Ячейки Jupyter-ноутбука"
   ]
  },
  {
   "cell_type": "markdown",
   "id": "68341b70",
   "metadata": {},
   "source": [
    "## Текстовое описание датасета"
   ]
  },
  {
   "cell_type": "markdown",
   "id": "beefaaee",
   "metadata": {},
   "source": [
    "В качестве набора данных используется датасет с вымышленными данными. Он имеет следующие атрибуты:"
   ]
  },
  {
   "cell_type": "markdown",
   "id": "9f897e53",
   "metadata": {},
   "source": [
    "- Number - порядковый номер - индекс для каждой строки\n",
    "- City - город - город проживания человека\n",
    "- Gender - пол - пол человека\n",
    "- Age - возраст - сколько человеку лет\n",
    "- Income - доход - годовой доход человека\n",
    "- Illness - болезнь - болеет ли человек"
   ]
  },
  {
   "cell_type": "markdown",
   "id": "7299fda7",
   "metadata": {},
   "source": [
    "## Импорт библиотек и загрузка данных"
   ]
  },
  {
   "cell_type": "markdown",
   "id": "2d6a3733",
   "metadata": {},
   "source": [
    "Импортируем необходимые библиотеки:"
   ]
  },
  {
   "cell_type": "code",
   "execution_count": 1,
   "id": "317c67f2",
   "metadata": {},
   "outputs": [],
   "source": [
    "import numpy as np\n",
    "import pandas as pd\n",
    "import seaborn as sns\n",
    "import matplotlib.pyplot as plt"
   ]
  },
  {
   "cell_type": "markdown",
   "id": "958d3a3c",
   "metadata": {},
   "source": [
    "Загрузим датасет:"
   ]
  },
  {
   "cell_type": "code",
   "execution_count": 2,
   "id": "11c5eba6",
   "metadata": {},
   "outputs": [],
   "source": [
    "data = pd.read_csv('toy_dataset.csv')"
   ]
  },
  {
   "cell_type": "markdown",
   "id": "62ec3427",
   "metadata": {},
   "source": [
    "Выведем первые 5 строк датасета:"
   ]
  },
  {
   "cell_type": "code",
   "execution_count": 3,
   "id": "c5d74251",
   "metadata": {},
   "outputs": [
    {
     "data": {
      "text/html": [
       "<div>\n",
       "<style scoped>\n",
       "    .dataframe tbody tr th:only-of-type {\n",
       "        vertical-align: middle;\n",
       "    }\n",
       "\n",
       "    .dataframe tbody tr th {\n",
       "        vertical-align: top;\n",
       "    }\n",
       "\n",
       "    .dataframe thead th {\n",
       "        text-align: right;\n",
       "    }\n",
       "</style>\n",
       "<table border=\"1\" class=\"dataframe\">\n",
       "  <thead>\n",
       "    <tr style=\"text-align: right;\">\n",
       "      <th></th>\n",
       "      <th>Number</th>\n",
       "      <th>City</th>\n",
       "      <th>Gender</th>\n",
       "      <th>Age</th>\n",
       "      <th>Income</th>\n",
       "      <th>Illness</th>\n",
       "    </tr>\n",
       "  </thead>\n",
       "  <tbody>\n",
       "    <tr>\n",
       "      <th>0</th>\n",
       "      <td>1</td>\n",
       "      <td>Dallas</td>\n",
       "      <td>Male</td>\n",
       "      <td>41</td>\n",
       "      <td>40367.0</td>\n",
       "      <td>No</td>\n",
       "    </tr>\n",
       "    <tr>\n",
       "      <th>1</th>\n",
       "      <td>2</td>\n",
       "      <td>Dallas</td>\n",
       "      <td>Male</td>\n",
       "      <td>54</td>\n",
       "      <td>45084.0</td>\n",
       "      <td>No</td>\n",
       "    </tr>\n",
       "    <tr>\n",
       "      <th>2</th>\n",
       "      <td>3</td>\n",
       "      <td>Dallas</td>\n",
       "      <td>Male</td>\n",
       "      <td>42</td>\n",
       "      <td>52483.0</td>\n",
       "      <td>No</td>\n",
       "    </tr>\n",
       "    <tr>\n",
       "      <th>3</th>\n",
       "      <td>4</td>\n",
       "      <td>Dallas</td>\n",
       "      <td>Male</td>\n",
       "      <td>40</td>\n",
       "      <td>40941.0</td>\n",
       "      <td>No</td>\n",
       "    </tr>\n",
       "    <tr>\n",
       "      <th>4</th>\n",
       "      <td>5</td>\n",
       "      <td>Dallas</td>\n",
       "      <td>Male</td>\n",
       "      <td>46</td>\n",
       "      <td>50289.0</td>\n",
       "      <td>No</td>\n",
       "    </tr>\n",
       "  </tbody>\n",
       "</table>\n",
       "</div>"
      ],
      "text/plain": [
       "   Number    City Gender  Age   Income Illness\n",
       "0       1  Dallas   Male   41  40367.0      No\n",
       "1       2  Dallas   Male   54  45084.0      No\n",
       "2       3  Dallas   Male   42  52483.0      No\n",
       "3       4  Dallas   Male   40  40941.0      No\n",
       "4       5  Dallas   Male   46  50289.0      No"
      ]
     },
     "execution_count": 3,
     "metadata": {},
     "output_type": "execute_result"
    }
   ],
   "source": [
    "data.head()"
   ]
  },
  {
   "cell_type": "markdown",
   "id": "d331113d",
   "metadata": {},
   "source": [
    "Определим размер датасета:"
   ]
  },
  {
   "cell_type": "code",
   "execution_count": 4,
   "id": "54a96d49",
   "metadata": {},
   "outputs": [
    {
     "data": {
      "text/plain": [
       "(150000, 6)"
      ]
     },
     "execution_count": 4,
     "metadata": {},
     "output_type": "execute_result"
    }
   ],
   "source": [
    "data.shape"
   ]
  },
  {
   "cell_type": "markdown",
   "id": "159e9f4e",
   "metadata": {},
   "source": [
    "Определим типы столбцов:"
   ]
  },
  {
   "cell_type": "code",
   "execution_count": 5,
   "id": "ccfa457f",
   "metadata": {},
   "outputs": [
    {
     "data": {
      "text/plain": [
       "Number       int64\n",
       "City        object\n",
       "Gender      object\n",
       "Age          int64\n",
       "Income     float64\n",
       "Illness     object\n",
       "dtype: object"
      ]
     },
     "execution_count": 5,
     "metadata": {},
     "output_type": "execute_result"
    }
   ],
   "source": [
    "data.dtypes"
   ]
  },
  {
   "cell_type": "markdown",
   "id": "bc741563",
   "metadata": {},
   "source": [
    "Часть столбцов имеют тип \"Object\". Для корреляционного анализа требуется преобразование этих столбцов в числовые типы данных."
   ]
  },
  {
   "cell_type": "markdown",
   "id": "8fe90e86",
   "metadata": {},
   "source": [
    "Столбец \"Number\" не нужен для корреляции, поэтому удалим его:"
   ]
  },
  {
   "cell_type": "code",
   "execution_count": 6,
   "id": "23a33303",
   "metadata": {},
   "outputs": [],
   "source": [
    "data = data.drop(columns=['Number'], axis=1)"
   ]
  },
  {
   "cell_type": "code",
   "execution_count": 7,
   "id": "1fd5d398",
   "metadata": {},
   "outputs": [
    {
     "data": {
      "text/html": [
       "<div>\n",
       "<style scoped>\n",
       "    .dataframe tbody tr th:only-of-type {\n",
       "        vertical-align: middle;\n",
       "    }\n",
       "\n",
       "    .dataframe tbody tr th {\n",
       "        vertical-align: top;\n",
       "    }\n",
       "\n",
       "    .dataframe thead th {\n",
       "        text-align: right;\n",
       "    }\n",
       "</style>\n",
       "<table border=\"1\" class=\"dataframe\">\n",
       "  <thead>\n",
       "    <tr style=\"text-align: right;\">\n",
       "      <th></th>\n",
       "      <th>City</th>\n",
       "      <th>Gender</th>\n",
       "      <th>Age</th>\n",
       "      <th>Income</th>\n",
       "      <th>Illness</th>\n",
       "    </tr>\n",
       "  </thead>\n",
       "  <tbody>\n",
       "    <tr>\n",
       "      <th>0</th>\n",
       "      <td>Dallas</td>\n",
       "      <td>Male</td>\n",
       "      <td>41</td>\n",
       "      <td>40367.0</td>\n",
       "      <td>No</td>\n",
       "    </tr>\n",
       "    <tr>\n",
       "      <th>1</th>\n",
       "      <td>Dallas</td>\n",
       "      <td>Male</td>\n",
       "      <td>54</td>\n",
       "      <td>45084.0</td>\n",
       "      <td>No</td>\n",
       "    </tr>\n",
       "    <tr>\n",
       "      <th>2</th>\n",
       "      <td>Dallas</td>\n",
       "      <td>Male</td>\n",
       "      <td>42</td>\n",
       "      <td>52483.0</td>\n",
       "      <td>No</td>\n",
       "    </tr>\n",
       "    <tr>\n",
       "      <th>3</th>\n",
       "      <td>Dallas</td>\n",
       "      <td>Male</td>\n",
       "      <td>40</td>\n",
       "      <td>40941.0</td>\n",
       "      <td>No</td>\n",
       "    </tr>\n",
       "    <tr>\n",
       "      <th>4</th>\n",
       "      <td>Dallas</td>\n",
       "      <td>Male</td>\n",
       "      <td>46</td>\n",
       "      <td>50289.0</td>\n",
       "      <td>No</td>\n",
       "    </tr>\n",
       "  </tbody>\n",
       "</table>\n",
       "</div>"
      ],
      "text/plain": [
       "     City Gender  Age   Income Illness\n",
       "0  Dallas   Male   41  40367.0      No\n",
       "1  Dallas   Male   54  45084.0      No\n",
       "2  Dallas   Male   42  52483.0      No\n",
       "3  Dallas   Male   40  40941.0      No\n",
       "4  Dallas   Male   46  50289.0      No"
      ]
     },
     "execution_count": 7,
     "metadata": {},
     "output_type": "execute_result"
    }
   ],
   "source": [
    "data.head()"
   ]
  },
  {
   "cell_type": "markdown",
   "id": "ada8e27e",
   "metadata": {},
   "source": [
    "## Преобразование типов данных"
   ]
  },
  {
   "cell_type": "markdown",
   "id": "8e8b53a6",
   "metadata": {},
   "source": [
    "Проверим уникальные значения для столбца \"Сity\":"
   ]
  },
  {
   "cell_type": "code",
   "execution_count": 8,
   "id": "daa75f82",
   "metadata": {},
   "outputs": [
    {
     "data": {
      "text/plain": [
       "array(['Dallas', 'New York City', 'Los Angeles', 'Mountain View',\n",
       "       'Boston', 'Washington D.C.', 'San Diego', 'Austin'], dtype=object)"
      ]
     },
     "execution_count": 8,
     "metadata": {},
     "output_type": "execute_result"
    }
   ],
   "source": [
    "data['City'].unique()"
   ]
  },
  {
   "cell_type": "markdown",
   "id": "f16184d1",
   "metadata": {},
   "source": [
    "В качестве значений в столбце \"City\" могут быть следующие города: \"Dallas\", \"New York City\", \"Los Angeles\", \"Mountain View\", \"Boston\", \"Washington D.C.\", \"San Diego\" and \"Austin\". Таких значений 8."
   ]
  },
  {
   "cell_type": "markdown",
   "id": "154d6040",
   "metadata": {},
   "source": [
    "Проверим уникальные значения для столбца \"Gender\":"
   ]
  },
  {
   "cell_type": "code",
   "execution_count": 9,
   "id": "84c8fdfa",
   "metadata": {},
   "outputs": [
    {
     "data": {
      "text/plain": [
       "array(['Male', 'Female'], dtype=object)"
      ]
     },
     "execution_count": 9,
     "metadata": {},
     "output_type": "execute_result"
    }
   ],
   "source": [
    "data['Gender'].unique()"
   ]
  },
  {
   "cell_type": "markdown",
   "id": "0d4c433f",
   "metadata": {},
   "source": [
    "В столбце \"Gender\" 2 варианта - \"Male\" или \"Female\"."
   ]
  },
  {
   "cell_type": "markdown",
   "id": "2486c1c1",
   "metadata": {},
   "source": [
    "Проверим уникальные значения для столбца \"Illness\":"
   ]
  },
  {
   "cell_type": "code",
   "execution_count": 10,
   "id": "7fac64ef",
   "metadata": {},
   "outputs": [
    {
     "data": {
      "text/plain": [
       "array(['No', 'Yes'], dtype=object)"
      ]
     },
     "execution_count": 10,
     "metadata": {},
     "output_type": "execute_result"
    }
   ],
   "source": [
    "data['Illness'].unique()"
   ]
  },
  {
   "cell_type": "markdown",
   "id": "3b9fcdcb",
   "metadata": {},
   "source": [
    "В столбце \"Illness\" тоже 2 варианта - \"No\" или \"Yes\"."
   ]
  },
  {
   "cell_type": "markdown",
   "id": "7973fa30",
   "metadata": {},
   "source": [
    "Эти три столбца можно отнести к категориальным признакам."
   ]
  },
  {
   "cell_type": "markdown",
   "id": "9d28abf9",
   "metadata": {},
   "source": [
    "Уникальные значения категориальных признаков можно кодировать целыми числами. Для этого можно использовать LabelEncoder из scikit-learn."
   ]
  },
  {
   "cell_type": "markdown",
   "id": "43d1265e",
   "metadata": {},
   "source": [
    "Импортируем LabelEncoder: "
   ]
  },
  {
   "cell_type": "code",
   "execution_count": 11,
   "id": "138c54cf",
   "metadata": {},
   "outputs": [],
   "source": [
    "from sklearn.preprocessing import LabelEncoder"
   ]
  },
  {
   "cell_type": "markdown",
   "id": "ec7a447a",
   "metadata": {},
   "source": [
    "Преобразуем столбец \"City\":"
   ]
  },
  {
   "cell_type": "code",
   "execution_count": 12,
   "id": "38a07c46",
   "metadata": {},
   "outputs": [],
   "source": [
    "letypecity = LabelEncoder()\n",
    "learrcity = letypecity.fit_transform(data[\"City\"])\n",
    "data[\"City\"] = learrcity\n",
    "data = data.astype({\"City\":\"int64\"})"
   ]
  },
  {
   "cell_type": "markdown",
   "id": "58dec9c0",
   "metadata": {},
   "source": [
    "Проверим преобразование:"
   ]
  },
  {
   "cell_type": "code",
   "execution_count": 13,
   "id": "9fa37645",
   "metadata": {},
   "outputs": [
    {
     "data": {
      "text/plain": [
       "array([0, 1, 2, 3, 4, 5, 6, 7])"
      ]
     },
     "execution_count": 13,
     "metadata": {},
     "output_type": "execute_result"
    }
   ],
   "source": [
    "np.unique(learrcity)"
   ]
  },
  {
   "cell_type": "markdown",
   "id": "95307614",
   "metadata": {},
   "source": [
    "Аналогично преобразуем столбцы \"Gender\" и \"Illness\":"
   ]
  },
  {
   "cell_type": "code",
   "execution_count": 14,
   "id": "e510c4ee",
   "metadata": {},
   "outputs": [],
   "source": [
    "letypegender = LabelEncoder()\n",
    "learrgender = letypegender.fit_transform(data[\"Gender\"])\n",
    "data[\"Gender\"] = learrgender\n",
    "data = data.astype({\"Gender\":\"int64\"})"
   ]
  },
  {
   "cell_type": "code",
   "execution_count": 15,
   "id": "0dc55241",
   "metadata": {},
   "outputs": [
    {
     "data": {
      "text/plain": [
       "array([0, 1])"
      ]
     },
     "execution_count": 15,
     "metadata": {},
     "output_type": "execute_result"
    }
   ],
   "source": [
    "np.unique(learrgender)"
   ]
  },
  {
   "cell_type": "code",
   "execution_count": 16,
   "id": "6b8f1616",
   "metadata": {},
   "outputs": [],
   "source": [
    "letypeill = LabelEncoder()\n",
    "learrill = letypeill.fit_transform(data[\"Illness\"])\n",
    "data[\"Illness\"] = learrill\n",
    "data = data.astype({\"Illness\":\"int64\"})"
   ]
  },
  {
   "cell_type": "code",
   "execution_count": 17,
   "id": "bce3f6d8",
   "metadata": {},
   "outputs": [
    {
     "data": {
      "text/plain": [
       "array([0, 1])"
      ]
     },
     "execution_count": 17,
     "metadata": {},
     "output_type": "execute_result"
    }
   ],
   "source": [
    "np.unique(learrill)"
   ]
  },
  {
   "cell_type": "markdown",
   "id": "e52e524d",
   "metadata": {},
   "source": [
    "Выведем типы столбцов после преобразования:"
   ]
  },
  {
   "cell_type": "code",
   "execution_count": 18,
   "id": "b8ae4cc4",
   "metadata": {},
   "outputs": [
    {
     "data": {
      "text/plain": [
       "City         int64\n",
       "Gender       int64\n",
       "Age          int64\n",
       "Income     float64\n",
       "Illness      int64\n",
       "dtype: object"
      ]
     },
     "execution_count": 18,
     "metadata": {},
     "output_type": "execute_result"
    }
   ],
   "source": [
    "data.dtypes"
   ]
  },
  {
   "cell_type": "markdown",
   "id": "a848dfad",
   "metadata": {},
   "source": [
    "## Проверка наличия пропусков"
   ]
  },
  {
   "cell_type": "markdown",
   "id": "f04b56af",
   "metadata": {},
   "source": [
    "Проверим наличие пропусков:"
   ]
  },
  {
   "cell_type": "code",
   "execution_count": 19,
   "id": "c918d176",
   "metadata": {},
   "outputs": [
    {
     "data": {
      "text/plain": [
       "City       0\n",
       "Gender     0\n",
       "Age        0\n",
       "Income     0\n",
       "Illness    0\n",
       "dtype: int64"
      ]
     },
     "execution_count": 19,
     "metadata": {},
     "output_type": "execute_result"
    }
   ],
   "source": [
    "data.isnull().sum()"
   ]
  },
  {
   "cell_type": "markdown",
   "id": "435f23e0",
   "metadata": {},
   "source": [
    "Видим, что пропуски не наблюдаются."
   ]
  },
  {
   "cell_type": "markdown",
   "id": "9bc523a2",
   "metadata": {},
   "source": [
    "## Корреляционный анализ"
   ]
  },
  {
   "cell_type": "markdown",
   "id": "e813cfff",
   "metadata": {},
   "source": [
    "Корреляционный анализ помогает найти корреляции с целевом признаком, а также выявить линейно независимые нецелевые признаки:"
   ]
  },
  {
   "cell_type": "markdown",
   "id": "64cf9e95",
   "metadata": {},
   "source": [
    "В качестве целевого признака выберем столбец \"Gender\" (0 - мужчины, 1 - женщины)."
   ]
  },
  {
   "cell_type": "markdown",
   "id": "a7f64413",
   "metadata": {},
   "source": [
    "Построим корреляционную матрицу:"
   ]
  },
  {
   "cell_type": "code",
   "execution_count": 20,
   "id": "4715d4f9",
   "metadata": {},
   "outputs": [
    {
     "data": {
      "text/html": [
       "<div>\n",
       "<style scoped>\n",
       "    .dataframe tbody tr th:only-of-type {\n",
       "        vertical-align: middle;\n",
       "    }\n",
       "\n",
       "    .dataframe tbody tr th {\n",
       "        vertical-align: top;\n",
       "    }\n",
       "\n",
       "    .dataframe thead th {\n",
       "        text-align: right;\n",
       "    }\n",
       "</style>\n",
       "<table border=\"1\" class=\"dataframe\">\n",
       "  <thead>\n",
       "    <tr style=\"text-align: right;\">\n",
       "      <th></th>\n",
       "      <th>City</th>\n",
       "      <th>Gender</th>\n",
       "      <th>Age</th>\n",
       "      <th>Income</th>\n",
       "      <th>Illness</th>\n",
       "    </tr>\n",
       "  </thead>\n",
       "  <tbody>\n",
       "    <tr>\n",
       "      <th>City</th>\n",
       "      <td>1.000000</td>\n",
       "      <td>0.002188</td>\n",
       "      <td>-0.000636</td>\n",
       "      <td>0.234541</td>\n",
       "      <td>-0.001712</td>\n",
       "    </tr>\n",
       "    <tr>\n",
       "      <th>Gender</th>\n",
       "      <td>0.002188</td>\n",
       "      <td>1.000000</td>\n",
       "      <td>-0.003653</td>\n",
       "      <td>0.198888</td>\n",
       "      <td>0.001297</td>\n",
       "    </tr>\n",
       "    <tr>\n",
       "      <th>Age</th>\n",
       "      <td>-0.000636</td>\n",
       "      <td>-0.003653</td>\n",
       "      <td>1.000000</td>\n",
       "      <td>-0.001318</td>\n",
       "      <td>0.001811</td>\n",
       "    </tr>\n",
       "    <tr>\n",
       "      <th>Income</th>\n",
       "      <td>0.234541</td>\n",
       "      <td>0.198888</td>\n",
       "      <td>-0.001318</td>\n",
       "      <td>1.000000</td>\n",
       "      <td>0.000298</td>\n",
       "    </tr>\n",
       "    <tr>\n",
       "      <th>Illness</th>\n",
       "      <td>-0.001712</td>\n",
       "      <td>0.001297</td>\n",
       "      <td>0.001811</td>\n",
       "      <td>0.000298</td>\n",
       "      <td>1.000000</td>\n",
       "    </tr>\n",
       "  </tbody>\n",
       "</table>\n",
       "</div>"
      ],
      "text/plain": [
       "             City    Gender       Age    Income   Illness\n",
       "City     1.000000  0.002188 -0.000636  0.234541 -0.001712\n",
       "Gender   0.002188  1.000000 -0.003653  0.198888  0.001297\n",
       "Age     -0.000636 -0.003653  1.000000 -0.001318  0.001811\n",
       "Income   0.234541  0.198888 -0.001318  1.000000  0.000298\n",
       "Illness -0.001712  0.001297  0.001811  0.000298  1.000000"
      ]
     },
     "execution_count": 20,
     "metadata": {},
     "output_type": "execute_result"
    }
   ],
   "source": [
    "data.corr()"
   ]
  },
  {
   "cell_type": "markdown",
   "id": "945c0141",
   "metadata": {},
   "source": [
    "Для визуализации корреляционной матрицы построим тепловую карту:"
   ]
  },
  {
   "cell_type": "code",
   "execution_count": 21,
   "id": "68bf93b3",
   "metadata": {},
   "outputs": [
    {
     "data": {
      "text/plain": [
       "<AxesSubplot:>"
      ]
     },
     "execution_count": 21,
     "metadata": {},
     "output_type": "execute_result"
    },
    {
     "data": {
      "image/png": "[encoded data removed]",
      "text/plain": [
       "<Figure size 720x360 with 2 Axes>"
      ]
     },
     "metadata": {
      "needs_background": "light"
     },
     "output_type": "display_data"
    }
   ],
   "source": [
    "fig, ax = plt.subplots(1, 1, sharex='col', sharey='row', figsize=(10,5))\n",
    "fig.suptitle('Тепловая карта корреляционной матрицы')\n",
    "sns.heatmap(data.corr(), ax=ax, annot=True, fmt='.4f', cmap=\"YlOrRd\")"
   ]
  },
  {
   "cell_type": "markdown",
   "id": "5ce1e31f",
   "metadata": {},
   "source": [
    "На основе корреляционной матрицы можно сделать следующие выводы:\n",
    "- Целевой признак наиболее сильно коррелирует с доходом (\"Income\", 0.20)\n",
    "- Целевой признак слабо коррелирует c городом (\"City\", 0.0022), возрастом (\"Age\", -0.0037) и болезнью (\"Illness\", 0.0013)\n",
    "- Наблюдается корреляция города (\"City\") с доходом (\"Income\") - 0.23"
   ]
  },
  {
   "cell_type": "markdown",
   "id": "c1e1b958",
   "metadata": {},
   "source": [
    "Сильно корреляции (>0.5) не наблюдается, значит все признаки можно оставить в модели."
   ]
  },
  {
   "cell_type": "markdown",
   "id": "319b31d1",
   "metadata": {},
   "source": [
    "## Диаграмма рассеяния"
   ]
  },
  {
   "cell_type": "markdown",
   "id": "a00fa033",
   "metadata": {},
   "source": [
    "Трансформируем обратно данные для столбцов \"City\" и \"Gender\":"
   ]
  },
  {
   "cell_type": "code",
   "execution_count": 22,
   "id": "810b546a",
   "metadata": {},
   "outputs": [],
   "source": [
    "cities = {\n",
    "0: 'Austin',\n",
    "1: 'Boston',\n",
    "2: 'Dallas',\n",
    "3: 'Los Angeles',\n",
    "4: 'Mountain View',\n",
    "5: 'New York City',\n",
    "6: 'San Diego',\n",
    "7: 'Washington D.C.',\n",
    "}\n",
    "data['City'] = data['City'].replace(cities)\n",
    "\n",
    "genders = {\n",
    "0: 'Male',\n",
    "1: 'Female',\n",
    "}\n",
    "data['Gender'] = data['Gender'].replace(genders)"
   ]
  },
  {
   "cell_type": "code",
   "execution_count": 23,
   "id": "a7eb729b",
   "metadata": {},
   "outputs": [
    {
     "data": {
      "text/html": [
       "<div>\n",
       "<style scoped>\n",
       "    .dataframe tbody tr th:only-of-type {\n",
       "        vertical-align: middle;\n",
       "    }\n",
       "\n",
       "    .dataframe tbody tr th {\n",
       "        vertical-align: top;\n",
       "    }\n",
       "\n",
       "    .dataframe thead th {\n",
       "        text-align: right;\n",
       "    }\n",
       "</style>\n",
       "<table border=\"1\" class=\"dataframe\">\n",
       "  <thead>\n",
       "    <tr style=\"text-align: right;\">\n",
       "      <th></th>\n",
       "      <th>City</th>\n",
       "      <th>Gender</th>\n",
       "      <th>Age</th>\n",
       "      <th>Income</th>\n",
       "      <th>Illness</th>\n",
       "    </tr>\n",
       "  </thead>\n",
       "  <tbody>\n",
       "    <tr>\n",
       "      <th>0</th>\n",
       "      <td>Dallas</td>\n",
       "      <td>Female</td>\n",
       "      <td>41</td>\n",
       "      <td>40367.0</td>\n",
       "      <td>0</td>\n",
       "    </tr>\n",
       "    <tr>\n",
       "      <th>1</th>\n",
       "      <td>Dallas</td>\n",
       "      <td>Female</td>\n",
       "      <td>54</td>\n",
       "      <td>45084.0</td>\n",
       "      <td>0</td>\n",
       "    </tr>\n",
       "    <tr>\n",
       "      <th>2</th>\n",
       "      <td>Dallas</td>\n",
       "      <td>Female</td>\n",
       "      <td>42</td>\n",
       "      <td>52483.0</td>\n",
       "      <td>0</td>\n",
       "    </tr>\n",
       "    <tr>\n",
       "      <th>3</th>\n",
       "      <td>Dallas</td>\n",
       "      <td>Female</td>\n",
       "      <td>40</td>\n",
       "      <td>40941.0</td>\n",
       "      <td>0</td>\n",
       "    </tr>\n",
       "    <tr>\n",
       "      <th>4</th>\n",
       "      <td>Dallas</td>\n",
       "      <td>Female</td>\n",
       "      <td>46</td>\n",
       "      <td>50289.0</td>\n",
       "      <td>0</td>\n",
       "    </tr>\n",
       "  </tbody>\n",
       "</table>\n",
       "</div>"
      ],
      "text/plain": [
       "     City  Gender  Age   Income  Illness\n",
       "0  Dallas  Female   41  40367.0        0\n",
       "1  Dallas  Female   54  45084.0        0\n",
       "2  Dallas  Female   42  52483.0        0\n",
       "3  Dallas  Female   40  40941.0        0\n",
       "4  Dallas  Female   46  50289.0        0"
      ]
     },
     "execution_count": 23,
     "metadata": {},
     "output_type": "execute_result"
    }
   ],
   "source": [
    "data.head()"
   ]
  },
  {
   "cell_type": "markdown",
   "id": "adb6f954",
   "metadata": {},
   "source": [
    "Построим диаграмму рассеяния для столбцов \"City\" и \"Income\", покрасим относительно \"Gender\":"
   ]
  },
  {
   "cell_type": "code",
   "execution_count": 24,
   "id": "4750dec9",
   "metadata": {},
   "outputs": [
    {
     "data": {
      "text/plain": [
       "<AxesSubplot:xlabel='City', ylabel='Income'>"
      ]
     },
     "execution_count": 24,
     "metadata": {},
     "output_type": "execute_result"
    },
    {
     "data": {
      "image/png": "[encoded data removed]",
      "text/plain": [
       "<Figure size 1080x720 with 1 Axes>"
      ]
     },
     "metadata": {
      "needs_background": "light"
     },
     "output_type": "display_data"
    }
   ],
   "source": [
    "fig, ax = plt.subplots(figsize=(15,10))\n",
    "sns.scatterplot(ax=ax, x='City', y='Income', hue='Gender', data=data)"
   ]
  },
  {
   "cell_type": "markdown",
   "id": "c9a9c6f5",
   "metadata": {},
   "source": [
    "Из диаграммы видно следующее:\n",
    "- Доход женщин выше, чем доход мужчин во всех городах\n",
    "- Городами с самыми высокими доходами являются Mountain View, New York City и Los Angeles\n",
    "- Городами с самыми низкими доходами являются Dallas, Washington D.C., Boston"
   ]
  }
 ],
 "metadata": {
  "authors": [
   {
    "name": "Анцифров Никита Сергеевич"
   }
  ],
  "group": "ИУ5-61Б",
  "kernelspec": {
   "display_name": "Python 3 (ipykernel)",
   "language": "python",
   "name": "python3"
  },
  "language_info": {
   "codemirror_mode": {
    "name": "ipython",
    "version": 3
   },
   "file_extension": ".py",
   "mimetype": "text/x-python",
   "name": "python",
   "nbconvert_exporter": "python",
   "pygments_lexer": "ipython3",
   "version": "3.9.9"
  },
  "rk_number": 1,
  "title": "Технологии разведочного анализа и обработки данных"
 },
 "nbformat": 4,
 "nbformat_minor": 5
}
